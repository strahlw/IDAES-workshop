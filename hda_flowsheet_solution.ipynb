{
  "cells": [
    {
      "cell_type": "markdown",
      "metadata": {
        "id": "view-in-github",
        "colab_type": "text"
      },
      "source": [
        "<a href=\"https://colab.research.google.com/github/strahlw/IDAES-workshop/blob/main/hda_flowsheet_solution.ipynb\" target=\"_parent\"><img src=\"https://colab.research.google.com/assets/colab-badge.svg\" alt=\"Open In Colab\"/></a>"
      ]
    },
    {
      "cell_type": "code",
      "source": [
        "# set up idaes-pse environment\n",
        "!git clone https://github.com/IDAES/idaes-pse.git\n",
        "!cd idaes-pse && git remote add upstream https://github.com/IDAES/idaes-pse.git\n",
        "!cd idaes-pse && git fetch upstream\n",
        "!cd idaes-pse && git checkout upstream/scaling_toolbox\n",
        "!cd idaes-pse && pip install .\n",
        "\n",
        "# set up idaes-examples environment\n",
        "!git clone https://github.com/IDAES/examples.git\n",
        "# for a specific branch\n",
        "# !cd examples && git remote add upstream-examples https://github.com/IDAES/examples.git\n",
        "# !cd examples && git fetch upstream-examples\n",
        "# !cd examples && git checkout upstream-examples/2.8_rel\n",
        "!cd examples && pip install .\n",
        "\n",
        "# get solvers\n",
        "!idaes get-extensions"
      ],
      "metadata": {
        "colab": {
          "base_uri": "https://localhost:8080/"
        },
        "id": "c7ri59kUqoij",
        "outputId": "1787cd82-516b-44c8-a33f-c4691e5707e4"
      },
      "execution_count": 1,
      "outputs": [
        {
          "output_type": "stream",
          "name": "stdout",
          "text": [
            "Cloning into 'idaes-pse'...\n",
            "remote: Enumerating objects: 83295, done.\u001b[K\n",
            "remote: Counting objects: 100% (1315/1315), done.\u001b[K\n",
            "remote: Compressing objects: 100% (918/918), done.\u001b[K\n",
            "remote: Total 83295 (delta 857), reused 397 (delta 397), pack-reused 81980 (from 3)\u001b[K\n",
            "Receiving objects: 100% (83295/83295), 109.33 MiB | 11.99 MiB/s, done.\n",
            "Resolving deltas: 100% (61272/61272), done.\n",
            "From https://github.com/IDAES/idaes-pse\n",
            " * [new branch]          1.10_rel             -> upstream/1.10_rel\n",
            " * [new branch]          1.11_rel             -> upstream/1.11_rel\n",
            " * [new branch]          1.12_rel             -> upstream/1.12_rel\n",
            " * [new branch]          1.13_rel             -> upstream/1.13_rel\n",
            " * [new branch]          1.1_rel              -> upstream/1.1_rel\n",
            " * [new branch]          1.2_rel              -> upstream/1.2_rel\n",
            " * [new branch]          1.3_rel              -> upstream/1.3_rel\n",
            " * [new branch]          1.4_rel              -> upstream/1.4_rel\n",
            " * [new branch]          1.5_rel              -> upstream/1.5_rel\n",
            " * [new branch]          1.6_rel              -> upstream/1.6_rel\n",
            " * [new branch]          1.7_rel              -> upstream/1.7_rel\n",
            " * [new branch]          1.8_rel              -> upstream/1.8_rel\n",
            " * [new branch]          1.9_rel              -> upstream/1.9_rel\n",
            " * [new branch]          2.0.0_rel            -> upstream/2.0.0_rel\n",
            " * [new branch]          2.0.0a0_rel          -> upstream/2.0.0a0_rel\n",
            " * [new branch]          2.0.0a1_rel          -> upstream/2.0.0a1_rel\n",
            " * [new branch]          2.0_rel              -> upstream/2.0_rel\n",
            " * [new branch]          2.1_rel              -> upstream/2.1_rel\n",
            " * [new branch]          2.2_rel              -> upstream/2.2_rel\n",
            " * [new branch]          2.3_rel              -> upstream/2.3_rel\n",
            " * [new branch]          2.4_rel              -> upstream/2.4_rel\n",
            " * [new branch]          2.5_rel              -> upstream/2.5_rel\n",
            " * [new branch]          2.6_rel              -> upstream/2.6_rel\n",
            " * [new branch]          2.7_rel              -> upstream/2.7_rel\n",
            " * [new branch]          2.8_rel              -> upstream/2.8_rel\n",
            " * [new branch]          adowling2-fix-url-colab-helper -> upstream/adowling2-fix-url-colab-helper\n",
            " * [new branch]          bidirectional-mb     -> upstream/bidirectional-mb\n",
            " * [new branch]          degeneracy-hunter    -> upstream/degeneracy-hunter\n",
            " * [new branch]          eslickj-patch-1      -> upstream/eslickj-patch-1\n",
            " * [new branch]          fix-dh-doc-link      -> upstream/fix-dh-doc-link\n",
            " * [new branch]          grid-int-double-loop -> upstream/grid-int-double-loop\n",
            " * [new branch]          issue-1155           -> upstream/issue-1155\n",
            " * [new branch]          jalving-patch-1      -> upstream/jalving-patch-1\n",
            " * [new branch]          location_factor      -> upstream/location_factor\n",
            " * [new branch]          macos-extensions     -> upstream/macos-extensions\n",
            " * [new branch]          main                 -> upstream/main\n",
            " * [new branch]          ngcc                 -> upstream/ngcc\n",
            " * [new branch]          old_main             -> upstream/old_main\n",
            " * [new branch]          pysmo_update         -> upstream/pysmo_update\n",
            " * [new branch]          pysmo_updates        -> upstream/pysmo_updates\n",
            " * [new branch]          rel_1                -> upstream/rel_1\n",
            " * [new branch]          revert-791-pytest-import-prescient -> upstream/revert-791-pytest-import-prescient\n",
            " * [new branch]          rhel9-patch          -> upstream/rhel9-patch\n",
            " * [new branch]          scaling_toolbox      -> upstream/scaling_toolbox\n",
            " * [new branch]          surrogate_model      -> upstream/surrogate_model\n",
            " * [new branch]          uncertainty_propagation -> upstream/uncertainty_propagation\n",
            " * [new branch]          update-degeneracy-hunter -> upstream/update-degeneracy-hunter\n",
            "Note: switching to 'upstream/scaling_toolbox'.\n",
            "\n",
            "You are in 'detached HEAD' state. You can look around, make experimental\n",
            "changes and commit them, and you can discard any commits you make in this\n",
            "state without impacting any branches by switching back to a branch.\n",
            "\n",
            "If you want to create a new branch to retain commits you create, you may\n",
            "do so (now or later) by using -c with the switch command. Example:\n",
            "\n",
            "  git switch -c <new-branch-name>\n",
            "\n",
            "Or undo this operation with:\n",
            "\n",
            "  git switch -\n",
            "\n",
            "Turn off this advice by setting config variable advice.detachedHead to false\n",
            "\n",
            "HEAD is now at f9cf6d1bc ControlVolume0D Scaler (#1651)\n",
            "Processing /content/idaes-pse\n",
            "  Preparing metadata (setup.py) ... \u001b[?25l\u001b[?25hdone\n",
            "Requirement already satisfied: pyomo>=6.9.3 in /usr/local/lib/python3.12/dist-packages (from idaes-pse==2.9.0.dev0) (6.9.3)\n",
            "Collecting pint>=0.24.1 (from idaes-pse==2.9.0.dev0)\n",
            "  Downloading pint-0.25-py3-none-any.whl.metadata (10 kB)\n",
            "Requirement already satisfied: networkx in /usr/local/lib/python3.12/dist-packages (from idaes-pse==2.9.0.dev0) (3.5)\n",
            "Requirement already satisfied: numpy<3,>=1 in /usr/local/lib/python3.12/dist-packages (from idaes-pse==2.9.0.dev0) (2.0.2)\n",
            "Requirement already satisfied: pandas!=2.1.0,<3 in /usr/local/lib/python3.12/dist-packages (from idaes-pse==2.9.0.dev0) (2.2.2)\n",
            "Requirement already satisfied: scipy in /usr/local/lib/python3.12/dist-packages (from idaes-pse==2.9.0.dev0) (1.16.1)\n",
            "Requirement already satisfied: sympy in /usr/local/lib/python3.12/dist-packages (from idaes-pse==2.9.0.dev0) (1.13.3)\n",
            "Requirement already satisfied: matplotlib in /usr/local/lib/python3.12/dist-packages (from idaes-pse==2.9.0.dev0) (3.10.0)\n",
            "Requirement already satisfied: click>=8 in /usr/local/lib/python3.12/dist-packages (from idaes-pse==2.9.0.dev0) (8.2.1)\n",
            "Requirement already satisfied: python-dateutil>=2.8.2 in /usr/local/lib/python3.12/dist-packages (from pandas!=2.1.0,<3->idaes-pse==2.9.0.dev0) (2.9.0.post0)\n",
            "Requirement already satisfied: pytz>=2020.1 in /usr/local/lib/python3.12/dist-packages (from pandas!=2.1.0,<3->idaes-pse==2.9.0.dev0) (2025.2)\n",
            "Requirement already satisfied: tzdata>=2022.7 in /usr/local/lib/python3.12/dist-packages (from pandas!=2.1.0,<3->idaes-pse==2.9.0.dev0) (2025.2)\n",
            "Collecting flexcache>=0.3 (from pint>=0.24.1->idaes-pse==2.9.0.dev0)\n",
            "  Downloading flexcache-0.3-py3-none-any.whl.metadata (7.0 kB)\n",
            "Collecting flexparser>=0.4 (from pint>=0.24.1->idaes-pse==2.9.0.dev0)\n",
            "  Downloading flexparser-0.4-py3-none-any.whl.metadata (18 kB)\n",
            "Requirement already satisfied: platformdirs>=2.1.0 in /usr/local/lib/python3.12/dist-packages (from pint>=0.24.1->idaes-pse==2.9.0.dev0) (4.3.8)\n",
            "Requirement already satisfied: typing-extensions>=4.0.0 in /usr/local/lib/python3.12/dist-packages (from pint>=0.24.1->idaes-pse==2.9.0.dev0) (4.15.0)\n",
            "Requirement already satisfied: ply in /usr/local/lib/python3.12/dist-packages (from pyomo>=6.9.3->idaes-pse==2.9.0.dev0) (3.11)\n",
            "Requirement already satisfied: contourpy>=1.0.1 in /usr/local/lib/python3.12/dist-packages (from matplotlib->idaes-pse==2.9.0.dev0) (1.3.3)\n",
            "Requirement already satisfied: cycler>=0.10 in /usr/local/lib/python3.12/dist-packages (from matplotlib->idaes-pse==2.9.0.dev0) (0.12.1)\n",
            "Requirement already satisfied: fonttools>=4.22.0 in /usr/local/lib/python3.12/dist-packages (from matplotlib->idaes-pse==2.9.0.dev0) (4.59.1)\n",
            "Requirement already satisfied: kiwisolver>=1.3.1 in /usr/local/lib/python3.12/dist-packages (from matplotlib->idaes-pse==2.9.0.dev0) (1.4.9)\n",
            "Requirement already satisfied: packaging>=20.0 in /usr/local/lib/python3.12/dist-packages (from matplotlib->idaes-pse==2.9.0.dev0) (25.0)\n",
            "Requirement already satisfied: pillow>=8 in /usr/local/lib/python3.12/dist-packages (from matplotlib->idaes-pse==2.9.0.dev0) (11.3.0)\n",
            "Requirement already satisfied: pyparsing>=2.3.1 in /usr/local/lib/python3.12/dist-packages (from matplotlib->idaes-pse==2.9.0.dev0) (3.2.3)\n",
            "Requirement already satisfied: mpmath<1.4,>=1.1.0 in /usr/local/lib/python3.12/dist-packages (from sympy->idaes-pse==2.9.0.dev0) (1.3.0)\n",
            "Requirement already satisfied: six>=1.5 in /usr/local/lib/python3.12/dist-packages (from python-dateutil>=2.8.2->pandas!=2.1.0,<3->idaes-pse==2.9.0.dev0) (1.17.0)\n",
            "Downloading pint-0.25-py3-none-any.whl (305 kB)\n",
            "\u001b[2K   \u001b[90m━━━━━━━━━━━━━━━━━━━━━━━━━━━━━━━━━━━━━━━━\u001b[0m \u001b[32m305.5/305.5 kB\u001b[0m \u001b[31m10.0 MB/s\u001b[0m eta \u001b[36m0:00:00\u001b[0m\n",
            "\u001b[?25hDownloading flexcache-0.3-py3-none-any.whl (13 kB)\n",
            "Downloading flexparser-0.4-py3-none-any.whl (27 kB)\n",
            "Building wheels for collected packages: idaes-pse\n",
            "  Building wheel for idaes-pse (setup.py) ... \u001b[?25l\u001b[?25hdone\n",
            "  Created wheel for idaes-pse: filename=idaes_pse-2.9.0.dev0-py3-none-any.whl size=5555740 sha256=d2900b68d3750a806dd750ff3b965e34b85ecf8a177256a95c6c00fe39f7402b\n",
            "  Stored in directory: /root/.cache/pip/wheels/3b/f1/63/797bea6232ae960382d98a30f525f5fd0dc5a332a2e8980136\n",
            "Successfully built idaes-pse\n",
            "Installing collected packages: flexparser, flexcache, pint, idaes-pse\n",
            "Successfully installed flexcache-0.3 flexparser-0.4 idaes-pse-2.9.0.dev0 pint-0.25\n",
            "Cloning into 'examples'...\n",
            "remote: Enumerating objects: 3824, done.\u001b[K\n",
            "remote: Counting objects: 100% (1520/1520), done.\u001b[K\n",
            "remote: Compressing objects: 100% (530/530), done.\u001b[K\n",
            "remote: Total 3824 (delta 1291), reused 990 (delta 990), pack-reused 2304 (from 3)\u001b[K\n",
            "Receiving objects: 100% (3824/3824), 103.60 MiB | 25.60 MiB/s, done.\n",
            "Resolving deltas: 100% (2409/2409), done.\n",
            "Processing /content/examples\n",
            "  Installing build dependencies ... \u001b[?25l\u001b[?25hdone\n",
            "  Getting requirements to build wheel ... \u001b[?25l\u001b[?25hdone\n",
            "  Preparing metadata (pyproject.toml) ... \u001b[?25l\u001b[?25hdone\n",
            "Requirement already satisfied: setuptools in /usr/local/lib/python3.12/dist-packages (from idaes-examples==2.8.dev0) (75.2.0)\n",
            "Requirement already satisfied: pyomo>=6.5.0 in /usr/local/lib/python3.12/dist-packages (from idaes-examples==2.8.dev0) (6.9.3)\n",
            "Collecting jupyter (from idaes-examples==2.8.dev0)\n",
            "  Downloading jupyter-1.1.1-py2.py3-none-any.whl.metadata (2.0 kB)\n",
            "Requirement already satisfied: importlib_resources in /usr/local/lib/python3.12/dist-packages (from idaes-examples==2.8.dev0) (6.5.2)\n",
            "Requirement already satisfied: ply in /usr/local/lib/python3.12/dist-packages (from pyomo>=6.5.0->idaes-examples==2.8.dev0) (3.11)\n",
            "Requirement already satisfied: notebook in /usr/local/lib/python3.12/dist-packages (from jupyter->idaes-examples==2.8.dev0) (6.5.7)\n",
            "Requirement already satisfied: jupyter-console in /usr/local/lib/python3.12/dist-packages (from jupyter->idaes-examples==2.8.dev0) (6.1.0)\n",
            "Requirement already satisfied: nbconvert in /usr/local/lib/python3.12/dist-packages (from jupyter->idaes-examples==2.8.dev0) (7.16.6)\n",
            "Requirement already satisfied: ipykernel in /usr/local/lib/python3.12/dist-packages (from jupyter->idaes-examples==2.8.dev0) (6.17.1)\n",
            "Requirement already satisfied: ipywidgets in /usr/local/lib/python3.12/dist-packages (from jupyter->idaes-examples==2.8.dev0) (7.7.1)\n",
            "Collecting jupyterlab (from jupyter->idaes-examples==2.8.dev0)\n",
            "  Downloading jupyterlab-4.4.6-py3-none-any.whl.metadata (16 kB)\n",
            "Requirement already satisfied: debugpy>=1.0 in /usr/local/lib/python3.12/dist-packages (from ipykernel->jupyter->idaes-examples==2.8.dev0) (1.8.15)\n",
            "Requirement already satisfied: ipython>=7.23.1 in /usr/local/lib/python3.12/dist-packages (from ipykernel->jupyter->idaes-examples==2.8.dev0) (7.34.0)\n",
            "Requirement already satisfied: jupyter-client>=6.1.12 in /usr/local/lib/python3.12/dist-packages (from ipykernel->jupyter->idaes-examples==2.8.dev0) (6.1.12)\n",
            "Requirement already satisfied: matplotlib-inline>=0.1 in /usr/local/lib/python3.12/dist-packages (from ipykernel->jupyter->idaes-examples==2.8.dev0) (0.1.7)\n",
            "Requirement already satisfied: nest-asyncio in /usr/local/lib/python3.12/dist-packages (from ipykernel->jupyter->idaes-examples==2.8.dev0) (1.6.0)\n",
            "Requirement already satisfied: packaging in /usr/local/lib/python3.12/dist-packages (from ipykernel->jupyter->idaes-examples==2.8.dev0) (25.0)\n",
            "Requirement already satisfied: psutil in /usr/local/lib/python3.12/dist-packages (from ipykernel->jupyter->idaes-examples==2.8.dev0) (5.9.5)\n",
            "Requirement already satisfied: pyzmq>=17 in /usr/local/lib/python3.12/dist-packages (from ipykernel->jupyter->idaes-examples==2.8.dev0) (26.2.1)\n",
            "Requirement already satisfied: tornado>=6.1 in /usr/local/lib/python3.12/dist-packages (from ipykernel->jupyter->idaes-examples==2.8.dev0) (6.4.2)\n",
            "Requirement already satisfied: traitlets>=5.1.0 in /usr/local/lib/python3.12/dist-packages (from ipykernel->jupyter->idaes-examples==2.8.dev0) (5.7.1)\n",
            "Requirement already satisfied: ipython-genutils~=0.2.0 in /usr/local/lib/python3.12/dist-packages (from ipywidgets->jupyter->idaes-examples==2.8.dev0) (0.2.0)\n",
            "Requirement already satisfied: widgetsnbextension~=3.6.0 in /usr/local/lib/python3.12/dist-packages (from ipywidgets->jupyter->idaes-examples==2.8.dev0) (3.6.10)\n",
            "Requirement already satisfied: jupyterlab-widgets>=1.0.0 in /usr/local/lib/python3.12/dist-packages (from ipywidgets->jupyter->idaes-examples==2.8.dev0) (3.0.15)\n",
            "Requirement already satisfied: prompt-toolkit!=3.0.0,!=3.0.1,<3.1.0,>=2.0.0 in /usr/local/lib/python3.12/dist-packages (from jupyter-console->jupyter->idaes-examples==2.8.dev0) (3.0.51)\n",
            "Requirement already satisfied: pygments in /usr/local/lib/python3.12/dist-packages (from jupyter-console->jupyter->idaes-examples==2.8.dev0) (2.19.2)\n",
            "Collecting async-lru>=1.0.0 (from jupyterlab->jupyter->idaes-examples==2.8.dev0)\n",
            "  Downloading async_lru-2.0.5-py3-none-any.whl.metadata (4.5 kB)\n",
            "Requirement already satisfied: httpx<1,>=0.25.0 in /usr/local/lib/python3.12/dist-packages (from jupyterlab->jupyter->idaes-examples==2.8.dev0) (0.28.1)\n",
            "Requirement already satisfied: jinja2>=3.0.3 in /usr/local/lib/python3.12/dist-packages (from jupyterlab->jupyter->idaes-examples==2.8.dev0) (3.1.6)\n",
            "Requirement already satisfied: jupyter-core in /usr/local/lib/python3.12/dist-packages (from jupyterlab->jupyter->idaes-examples==2.8.dev0) (5.8.1)\n",
            "Collecting jupyter-lsp>=2.0.0 (from jupyterlab->jupyter->idaes-examples==2.8.dev0)\n",
            "  Downloading jupyter_lsp-2.3.0-py3-none-any.whl.metadata (1.8 kB)\n",
            "Collecting jupyter-server<3,>=2.4.0 (from jupyterlab->jupyter->idaes-examples==2.8.dev0)\n",
            "  Downloading jupyter_server-2.17.0-py3-none-any.whl.metadata (8.5 kB)\n",
            "Collecting jupyterlab-server<3,>=2.27.1 (from jupyterlab->jupyter->idaes-examples==2.8.dev0)\n",
            "  Downloading jupyterlab_server-2.27.3-py3-none-any.whl.metadata (5.9 kB)\n",
            "Requirement already satisfied: notebook-shim>=0.2 in /usr/local/lib/python3.12/dist-packages (from jupyterlab->jupyter->idaes-examples==2.8.dev0) (0.2.4)\n",
            "Requirement already satisfied: beautifulsoup4 in /usr/local/lib/python3.12/dist-packages (from nbconvert->jupyter->idaes-examples==2.8.dev0) (4.13.5)\n",
            "Requirement already satisfied: bleach!=5.0.0 in /usr/local/lib/python3.12/dist-packages (from bleach[css]!=5.0.0->nbconvert->jupyter->idaes-examples==2.8.dev0) (6.2.0)\n",
            "Requirement already satisfied: defusedxml in /usr/local/lib/python3.12/dist-packages (from nbconvert->jupyter->idaes-examples==2.8.dev0) (0.7.1)\n",
            "Requirement already satisfied: jupyterlab-pygments in /usr/local/lib/python3.12/dist-packages (from nbconvert->jupyter->idaes-examples==2.8.dev0) (0.3.0)\n",
            "Requirement already satisfied: markupsafe>=2.0 in /usr/local/lib/python3.12/dist-packages (from nbconvert->jupyter->idaes-examples==2.8.dev0) (3.0.2)\n",
            "Requirement already satisfied: mistune<4,>=2.0.3 in /usr/local/lib/python3.12/dist-packages (from nbconvert->jupyter->idaes-examples==2.8.dev0) (3.1.3)\n",
            "Requirement already satisfied: nbclient>=0.5.0 in /usr/local/lib/python3.12/dist-packages (from nbconvert->jupyter->idaes-examples==2.8.dev0) (0.10.2)\n",
            "Requirement already satisfied: nbformat>=5.7 in /usr/local/lib/python3.12/dist-packages (from nbconvert->jupyter->idaes-examples==2.8.dev0) (5.10.4)\n",
            "Requirement already satisfied: pandocfilters>=1.4.1 in /usr/local/lib/python3.12/dist-packages (from nbconvert->jupyter->idaes-examples==2.8.dev0) (1.5.1)\n",
            "Requirement already satisfied: argon2-cffi in /usr/local/lib/python3.12/dist-packages (from notebook->jupyter->idaes-examples==2.8.dev0) (25.1.0)\n",
            "Requirement already satisfied: Send2Trash>=1.8.0 in /usr/local/lib/python3.12/dist-packages (from notebook->jupyter->idaes-examples==2.8.dev0) (1.8.3)\n",
            "Requirement already satisfied: terminado>=0.8.3 in /usr/local/lib/python3.12/dist-packages (from notebook->jupyter->idaes-examples==2.8.dev0) (0.18.1)\n",
            "Requirement already satisfied: prometheus-client in /usr/local/lib/python3.12/dist-packages (from notebook->jupyter->idaes-examples==2.8.dev0) (0.22.1)\n",
            "Requirement already satisfied: nbclassic>=0.4.7 in /usr/local/lib/python3.12/dist-packages (from notebook->jupyter->idaes-examples==2.8.dev0) (1.3.1)\n",
            "Requirement already satisfied: webencodings in /usr/local/lib/python3.12/dist-packages (from bleach!=5.0.0->bleach[css]!=5.0.0->nbconvert->jupyter->idaes-examples==2.8.dev0) (0.5.1)\n",
            "Requirement already satisfied: tinycss2<1.5,>=1.1.0 in /usr/local/lib/python3.12/dist-packages (from bleach[css]!=5.0.0->nbconvert->jupyter->idaes-examples==2.8.dev0) (1.4.0)\n",
            "Requirement already satisfied: anyio in /usr/local/lib/python3.12/dist-packages (from httpx<1,>=0.25.0->jupyterlab->jupyter->idaes-examples==2.8.dev0) (4.10.0)\n",
            "Requirement already satisfied: certifi in /usr/local/lib/python3.12/dist-packages (from httpx<1,>=0.25.0->jupyterlab->jupyter->idaes-examples==2.8.dev0) (2025.8.3)\n",
            "Requirement already satisfied: httpcore==1.* in /usr/local/lib/python3.12/dist-packages (from httpx<1,>=0.25.0->jupyterlab->jupyter->idaes-examples==2.8.dev0) (1.0.9)\n",
            "Requirement already satisfied: idna in /usr/local/lib/python3.12/dist-packages (from httpx<1,>=0.25.0->jupyterlab->jupyter->idaes-examples==2.8.dev0) (3.10)\n",
            "Requirement already satisfied: h11>=0.16 in /usr/local/lib/python3.12/dist-packages (from httpcore==1.*->httpx<1,>=0.25.0->jupyterlab->jupyter->idaes-examples==2.8.dev0) (0.16.0)\n",
            "Collecting jedi>=0.16 (from ipython>=7.23.1->ipykernel->jupyter->idaes-examples==2.8.dev0)\n",
            "  Downloading jedi-0.19.2-py2.py3-none-any.whl.metadata (22 kB)\n",
            "Requirement already satisfied: decorator in /usr/local/lib/python3.12/dist-packages (from ipython>=7.23.1->ipykernel->jupyter->idaes-examples==2.8.dev0) (4.4.2)\n",
            "Requirement already satisfied: pickleshare in /usr/local/lib/python3.12/dist-packages (from ipython>=7.23.1->ipykernel->jupyter->idaes-examples==2.8.dev0) (0.7.5)\n",
            "Requirement already satisfied: backcall in /usr/local/lib/python3.12/dist-packages (from ipython>=7.23.1->ipykernel->jupyter->idaes-examples==2.8.dev0) (0.2.0)\n",
            "Requirement already satisfied: pexpect>4.3 in /usr/local/lib/python3.12/dist-packages (from ipython>=7.23.1->ipykernel->jupyter->idaes-examples==2.8.dev0) (4.9.0)\n",
            "Requirement already satisfied: python-dateutil>=2.1 in /usr/local/lib/python3.12/dist-packages (from jupyter-client>=6.1.12->ipykernel->jupyter->idaes-examples==2.8.dev0) (2.9.0.post0)\n",
            "Requirement already satisfied: platformdirs>=2.5 in /usr/local/lib/python3.12/dist-packages (from jupyter-core->jupyterlab->jupyter->idaes-examples==2.8.dev0) (4.3.8)\n",
            "Collecting jupyter-client>=6.1.12 (from ipykernel->jupyter->idaes-examples==2.8.dev0)\n",
            "  Downloading jupyter_client-7.4.9-py3-none-any.whl.metadata (8.5 kB)\n",
            "Collecting jupyter-events>=0.11.0 (from jupyter-server<3,>=2.4.0->jupyterlab->jupyter->idaes-examples==2.8.dev0)\n",
            "  Downloading jupyter_events-0.12.0-py3-none-any.whl.metadata (5.8 kB)\n",
            "Collecting jupyter-server-terminals>=0.4.4 (from jupyter-server<3,>=2.4.0->jupyterlab->jupyter->idaes-examples==2.8.dev0)\n",
            "  Downloading jupyter_server_terminals-0.5.3-py3-none-any.whl.metadata (5.6 kB)\n",
            "Requirement already satisfied: websocket-client>=1.7 in /usr/local/lib/python3.12/dist-packages (from jupyter-server<3,>=2.4.0->jupyterlab->jupyter->idaes-examples==2.8.dev0) (1.8.0)\n",
            "Requirement already satisfied: argon2-cffi-bindings in /usr/local/lib/python3.12/dist-packages (from argon2-cffi->notebook->jupyter->idaes-examples==2.8.dev0) (25.1.0)\n",
            "Requirement already satisfied: entrypoints in /usr/local/lib/python3.12/dist-packages (from jupyter-client>=6.1.12->ipykernel->jupyter->idaes-examples==2.8.dev0) (0.4)\n",
            "Requirement already satisfied: babel>=2.10 in /usr/local/lib/python3.12/dist-packages (from jupyterlab-server<3,>=2.27.1->jupyterlab->jupyter->idaes-examples==2.8.dev0) (2.17.0)\n",
            "Collecting json5>=0.9.0 (from jupyterlab-server<3,>=2.27.1->jupyterlab->jupyter->idaes-examples==2.8.dev0)\n",
            "  Downloading json5-0.12.1-py3-none-any.whl.metadata (36 kB)\n",
            "Requirement already satisfied: jsonschema>=4.18.0 in /usr/local/lib/python3.12/dist-packages (from jupyterlab-server<3,>=2.27.1->jupyterlab->jupyter->idaes-examples==2.8.dev0) (4.25.1)\n",
            "Requirement already satisfied: requests>=2.31 in /usr/local/lib/python3.12/dist-packages (from jupyterlab-server<3,>=2.27.1->jupyterlab->jupyter->idaes-examples==2.8.dev0) (2.32.4)\n",
            "Requirement already satisfied: fastjsonschema>=2.15 in /usr/local/lib/python3.12/dist-packages (from nbformat>=5.7->nbconvert->jupyter->idaes-examples==2.8.dev0) (2.21.2)\n",
            "Requirement already satisfied: wcwidth in /usr/local/lib/python3.12/dist-packages (from prompt-toolkit!=3.0.0,!=3.0.1,<3.1.0,>=2.0.0->jupyter-console->jupyter->idaes-examples==2.8.dev0) (0.2.13)\n",
            "Requirement already satisfied: ptyprocess in /usr/local/lib/python3.12/dist-packages (from terminado>=0.8.3->notebook->jupyter->idaes-examples==2.8.dev0) (0.7.0)\n",
            "Requirement already satisfied: soupsieve>1.2 in /usr/local/lib/python3.12/dist-packages (from beautifulsoup4->nbconvert->jupyter->idaes-examples==2.8.dev0) (2.7)\n",
            "Requirement already satisfied: typing-extensions>=4.0.0 in /usr/local/lib/python3.12/dist-packages (from beautifulsoup4->nbconvert->jupyter->idaes-examples==2.8.dev0) (4.15.0)\n",
            "Requirement already satisfied: sniffio>=1.1 in /usr/local/lib/python3.12/dist-packages (from anyio->httpx<1,>=0.25.0->jupyterlab->jupyter->idaes-examples==2.8.dev0) (1.3.1)\n",
            "Requirement already satisfied: parso<0.9.0,>=0.8.4 in /usr/local/lib/python3.12/dist-packages (from jedi>=0.16->ipython>=7.23.1->ipykernel->jupyter->idaes-examples==2.8.dev0) (0.8.5)\n",
            "Requirement already satisfied: attrs>=22.2.0 in /usr/local/lib/python3.12/dist-packages (from jsonschema>=4.18.0->jupyterlab-server<3,>=2.27.1->jupyterlab->jupyter->idaes-examples==2.8.dev0) (25.3.0)\n",
            "Requirement already satisfied: jsonschema-specifications>=2023.03.6 in /usr/local/lib/python3.12/dist-packages (from jsonschema>=4.18.0->jupyterlab-server<3,>=2.27.1->jupyterlab->jupyter->idaes-examples==2.8.dev0) (2025.4.1)\n",
            "Requirement already satisfied: referencing>=0.28.4 in /usr/local/lib/python3.12/dist-packages (from jsonschema>=4.18.0->jupyterlab-server<3,>=2.27.1->jupyterlab->jupyter->idaes-examples==2.8.dev0) (0.36.2)\n",
            "Requirement already satisfied: rpds-py>=0.7.1 in /usr/local/lib/python3.12/dist-packages (from jsonschema>=4.18.0->jupyterlab-server<3,>=2.27.1->jupyterlab->jupyter->idaes-examples==2.8.dev0) (0.27.0)\n",
            "Collecting python-json-logger>=2.0.4 (from jupyter-events>=0.11.0->jupyter-server<3,>=2.4.0->jupyterlab->jupyter->idaes-examples==2.8.dev0)\n",
            "  Downloading python_json_logger-3.3.0-py3-none-any.whl.metadata (4.0 kB)\n",
            "Requirement already satisfied: pyyaml>=5.3 in /usr/local/lib/python3.12/dist-packages (from jupyter-events>=0.11.0->jupyter-server<3,>=2.4.0->jupyterlab->jupyter->idaes-examples==2.8.dev0) (6.0.2)\n",
            "Collecting rfc3339-validator (from jupyter-events>=0.11.0->jupyter-server<3,>=2.4.0->jupyterlab->jupyter->idaes-examples==2.8.dev0)\n",
            "  Downloading rfc3339_validator-0.1.4-py2.py3-none-any.whl.metadata (1.5 kB)\n",
            "Collecting rfc3986-validator>=0.1.1 (from jupyter-events>=0.11.0->jupyter-server<3,>=2.4.0->jupyterlab->jupyter->idaes-examples==2.8.dev0)\n",
            "  Downloading rfc3986_validator-0.1.1-py2.py3-none-any.whl.metadata (1.7 kB)\n",
            "Requirement already satisfied: six>=1.5 in /usr/local/lib/python3.12/dist-packages (from python-dateutil>=2.1->jupyter-client>=6.1.12->ipykernel->jupyter->idaes-examples==2.8.dev0) (1.17.0)\n",
            "Requirement already satisfied: charset_normalizer<4,>=2 in /usr/local/lib/python3.12/dist-packages (from requests>=2.31->jupyterlab-server<3,>=2.27.1->jupyterlab->jupyter->idaes-examples==2.8.dev0) (3.4.3)\n",
            "Requirement already satisfied: urllib3<3,>=1.21.1 in /usr/local/lib/python3.12/dist-packages (from requests>=2.31->jupyterlab-server<3,>=2.27.1->jupyterlab->jupyter->idaes-examples==2.8.dev0) (2.5.0)\n",
            "Requirement already satisfied: cffi>=1.0.1 in /usr/local/lib/python3.12/dist-packages (from argon2-cffi-bindings->argon2-cffi->notebook->jupyter->idaes-examples==2.8.dev0) (1.17.1)\n",
            "Requirement already satisfied: pycparser in /usr/local/lib/python3.12/dist-packages (from cffi>=1.0.1->argon2-cffi-bindings->argon2-cffi->notebook->jupyter->idaes-examples==2.8.dev0) (2.22)\n",
            "Collecting fqdn (from jsonschema[format-nongpl]>=4.18.0->jupyter-events>=0.11.0->jupyter-server<3,>=2.4.0->jupyterlab->jupyter->idaes-examples==2.8.dev0)\n",
            "  Downloading fqdn-1.5.1-py3-none-any.whl.metadata (1.4 kB)\n",
            "Collecting isoduration (from jsonschema[format-nongpl]>=4.18.0->jupyter-events>=0.11.0->jupyter-server<3,>=2.4.0->jupyterlab->jupyter->idaes-examples==2.8.dev0)\n",
            "  Downloading isoduration-20.11.0-py3-none-any.whl.metadata (5.7 kB)\n",
            "Requirement already satisfied: jsonpointer>1.13 in /usr/local/lib/python3.12/dist-packages (from jsonschema[format-nongpl]>=4.18.0->jupyter-events>=0.11.0->jupyter-server<3,>=2.4.0->jupyterlab->jupyter->idaes-examples==2.8.dev0) (3.0.0)\n",
            "Collecting rfc3987-syntax>=1.1.0 (from jsonschema[format-nongpl]>=4.18.0->jupyter-events>=0.11.0->jupyter-server<3,>=2.4.0->jupyterlab->jupyter->idaes-examples==2.8.dev0)\n",
            "  Downloading rfc3987_syntax-1.1.0-py3-none-any.whl.metadata (7.7 kB)\n",
            "Collecting uri-template (from jsonschema[format-nongpl]>=4.18.0->jupyter-events>=0.11.0->jupyter-server<3,>=2.4.0->jupyterlab->jupyter->idaes-examples==2.8.dev0)\n",
            "  Downloading uri_template-1.3.0-py3-none-any.whl.metadata (8.8 kB)\n",
            "Requirement already satisfied: webcolors>=24.6.0 in /usr/local/lib/python3.12/dist-packages (from jsonschema[format-nongpl]>=4.18.0->jupyter-events>=0.11.0->jupyter-server<3,>=2.4.0->jupyterlab->jupyter->idaes-examples==2.8.dev0) (24.11.1)\n",
            "Collecting lark>=1.2.2 (from rfc3987-syntax>=1.1.0->jsonschema[format-nongpl]>=4.18.0->jupyter-events>=0.11.0->jupyter-server<3,>=2.4.0->jupyterlab->jupyter->idaes-examples==2.8.dev0)\n",
            "  Downloading lark-1.2.2-py3-none-any.whl.metadata (1.8 kB)\n",
            "Collecting arrow>=0.15.0 (from isoduration->jsonschema[format-nongpl]>=4.18.0->jupyter-events>=0.11.0->jupyter-server<3,>=2.4.0->jupyterlab->jupyter->idaes-examples==2.8.dev0)\n",
            "  Downloading arrow-1.3.0-py3-none-any.whl.metadata (7.5 kB)\n",
            "Collecting types-python-dateutil>=2.8.10 (from arrow>=0.15.0->isoduration->jsonschema[format-nongpl]>=4.18.0->jupyter-events>=0.11.0->jupyter-server<3,>=2.4.0->jupyterlab->jupyter->idaes-examples==2.8.dev0)\n",
            "  Downloading types_python_dateutil-2.9.0.20250822-py3-none-any.whl.metadata (1.8 kB)\n",
            "Downloading jupyter-1.1.1-py2.py3-none-any.whl (2.7 kB)\n",
            "Downloading jupyterlab-4.4.6-py3-none-any.whl (12.3 MB)\n",
            "\u001b[2K   \u001b[90m━━━━━━━━━━━━━━━━━━━━━━━━━━━━━━━━━━━━━━━━\u001b[0m \u001b[32m12.3/12.3 MB\u001b[0m \u001b[31m99.3 MB/s\u001b[0m eta \u001b[36m0:00:00\u001b[0m\n",
            "\u001b[?25hDownloading async_lru-2.0.5-py3-none-any.whl (6.1 kB)\n",
            "Downloading jupyter_lsp-2.3.0-py3-none-any.whl (76 kB)\n",
            "\u001b[2K   \u001b[90m━━━━━━━━━━━━━━━━━━━━━━━━━━━━━━━━━━━━━━━━\u001b[0m \u001b[32m76.7/76.7 kB\u001b[0m \u001b[31m5.9 MB/s\u001b[0m eta \u001b[36m0:00:00\u001b[0m\n",
            "\u001b[?25hDownloading jupyter_server-2.17.0-py3-none-any.whl (388 kB)\n",
            "\u001b[2K   \u001b[90m━━━━━━━━━━━━━━━━━━━━━━━━━━━━━━━━━━━━━━━━\u001b[0m \u001b[32m388.2/388.2 kB\u001b[0m \u001b[31m23.5 MB/s\u001b[0m eta \u001b[36m0:00:00\u001b[0m\n",
            "\u001b[?25hDownloading jupyter_client-7.4.9-py3-none-any.whl (133 kB)\n",
            "\u001b[2K   \u001b[90m━━━━━━━━━━━━━━━━━━━━━━━━━━━━━━━━━━━━━━━━\u001b[0m \u001b[32m133.5/133.5 kB\u001b[0m \u001b[31m10.1 MB/s\u001b[0m eta \u001b[36m0:00:00\u001b[0m\n",
            "\u001b[?25hDownloading jupyterlab_server-2.27.3-py3-none-any.whl (59 kB)\n",
            "\u001b[2K   \u001b[90m━━━━━━━━━━━━━━━━━━━━━━━━━━━━━━━━━━━━━━━━\u001b[0m \u001b[32m59.7/59.7 kB\u001b[0m \u001b[31m4.5 MB/s\u001b[0m eta \u001b[36m0:00:00\u001b[0m\n",
            "\u001b[?25hDownloading jedi-0.19.2-py2.py3-none-any.whl (1.6 MB)\n",
            "\u001b[2K   \u001b[90m━━━━━━━━━━━━━━━━━━━━━━━━━━━━━━━━━━━━━━━━\u001b[0m \u001b[32m1.6/1.6 MB\u001b[0m \u001b[31m50.8 MB/s\u001b[0m eta \u001b[36m0:00:00\u001b[0m\n",
            "\u001b[?25hDownloading json5-0.12.1-py3-none-any.whl (36 kB)\n",
            "Downloading jupyter_events-0.12.0-py3-none-any.whl (19 kB)\n",
            "Downloading jupyter_server_terminals-0.5.3-py3-none-any.whl (13 kB)\n",
            "Downloading python_json_logger-3.3.0-py3-none-any.whl (15 kB)\n",
            "Downloading rfc3986_validator-0.1.1-py2.py3-none-any.whl (4.2 kB)\n",
            "Downloading rfc3339_validator-0.1.4-py2.py3-none-any.whl (3.5 kB)\n",
            "Downloading rfc3987_syntax-1.1.0-py3-none-any.whl (8.0 kB)\n",
            "Downloading fqdn-1.5.1-py3-none-any.whl (9.1 kB)\n",
            "Downloading isoduration-20.11.0-py3-none-any.whl (11 kB)\n",
            "Downloading uri_template-1.3.0-py3-none-any.whl (11 kB)\n",
            "Downloading arrow-1.3.0-py3-none-any.whl (66 kB)\n",
            "\u001b[2K   \u001b[90m━━━━━━━━━━━━━━━━━━━━━━━━━━━━━━━━━━━━━━━━\u001b[0m \u001b[32m66.4/66.4 kB\u001b[0m \u001b[31m5.1 MB/s\u001b[0m eta \u001b[36m0:00:00\u001b[0m\n",
            "\u001b[?25hDownloading lark-1.2.2-py3-none-any.whl (111 kB)\n",
            "\u001b[2K   \u001b[90m━━━━━━━━━━━━━━━━━━━━━━━━━━━━━━━━━━━━━━━━\u001b[0m \u001b[32m111.0/111.0 kB\u001b[0m \u001b[31m7.7 MB/s\u001b[0m eta \u001b[36m0:00:00\u001b[0m\n",
            "\u001b[?25hDownloading types_python_dateutil-2.9.0.20250822-py3-none-any.whl (17 kB)\n",
            "Building wheels for collected packages: idaes-examples\n",
            "  Building wheel for idaes-examples (pyproject.toml) ... \u001b[?25l\u001b[?25hdone\n",
            "  Created wheel for idaes-examples: filename=idaes_examples-2.8.dev0-py3-none-any.whl size=51953483 sha256=6590aa2e75fad64030113db77cc5d67281bbd9b04fd04dd13d1987f42e1ac57d\n",
            "  Stored in directory: /tmp/pip-ephem-wheel-cache-w2xk0mqq/wheels/43/80/fa/c3e1c5810aa5db15159f9d27d82d8c498fe95f98ab1cfa97a9\n",
            "Successfully built idaes-examples\n",
            "Installing collected packages: uri-template, types-python-dateutil, rfc3986-validator, rfc3339-validator, python-json-logger, lark, json5, jedi, fqdn, async-lru, rfc3987-syntax, jupyter-server-terminals, jupyter-client, arrow, isoduration, jupyter-events, jupyter-server, jupyterlab-server, jupyter-lsp, jupyterlab, jupyter, idaes-examples\n",
            "  Attempting uninstall: jupyter-client\n",
            "    Found existing installation: jupyter-client 6.1.12\n",
            "    Uninstalling jupyter-client-6.1.12:\n",
            "      Successfully uninstalled jupyter-client-6.1.12\n",
            "  Attempting uninstall: jupyter-server\n",
            "    Found existing installation: jupyter-server 1.16.0\n",
            "    Uninstalling jupyter-server-1.16.0:\n",
            "      Successfully uninstalled jupyter-server-1.16.0\n",
            "\u001b[31mERROR: pip's dependency resolver does not currently take into account all the packages that are installed. This behaviour is the source of the following dependency conflicts.\n",
            "google-colab 1.0.0 requires jupyter-server==1.16.0, but you have jupyter-server 2.17.0 which is incompatible.\u001b[0m\u001b[31m\n",
            "\u001b[0mSuccessfully installed arrow-1.3.0 async-lru-2.0.5 fqdn-1.5.1 idaes-examples-2.8.dev0 isoduration-20.11.0 jedi-0.19.2 json5-0.12.1 jupyter-1.1.1 jupyter-client-7.4.9 jupyter-events-0.12.0 jupyter-lsp-2.3.0 jupyter-server-2.17.0 jupyter-server-terminals-0.5.3 jupyterlab-4.4.6 jupyterlab-server-2.27.3 lark-1.2.2 python-json-logger-3.3.0 rfc3339-validator-0.1.4 rfc3986-validator-0.1.1 rfc3987-syntax-1.1.0 types-python-dateutil-2.9.0.20250822 uri-template-1.3.0\n",
            "Getting files...\n",
            "Done\n",
            "-----------------------------------------------------------------\n",
            "IDAES Extensions Build Versions\n",
            "=================================================================\n",
            "Solvers:  v3.4.2 20240811 ubuntu2204-x86_64\n",
            "Library:  v3.4.2 20240811 ubuntu2204-x86_64\n",
            "\n",
            "=================================================================\n"
          ]
        }
      ]
    },
    {
      "cell_type": "code",
      "execution_count": null,
      "metadata": {
        "tags": [
          "header",
          "hide-cell"
        ],
        "id": "Y58yJsdrqoCA"
      },
      "outputs": [],
      "source": [
        "###############################################################################\n",
        "# The Institute for the Design of Advanced Energy Systems Integrated Platform\n",
        "# Framework (IDAES IP) was produced under the DOE Institute for the\n",
        "# Design of Advanced Energy Systems (IDAES).\n",
        "#\n",
        "# Copyright (c) 2018-2023 by the software owners: The Regents of the\n",
        "# University of California, through Lawrence Berkeley National Laboratory,\n",
        "# National Technology & Engineering Solutions of Sandia, LLC, Carnegie Mellon\n",
        "# University, West Virginia University Research Corporation, et al.\n",
        "# All rights reserved.  Please see the files COPYRIGHT.md and LICENSE.md\n",
        "# for full copyright and license information.\n",
        "###############################################################################"
      ]
    },
    {
      "cell_type": "markdown",
      "metadata": {
        "id": "BR-6F2jCqoCD"
      },
      "source": [
        "\n",
        "# HDA Flowsheet Simulation and Optimization\n",
        "\n",
        "Author: Jaffer Ghouse  \n",
        "Maintainer: Brandon Paul  \n",
        "Updated: 2023-06-01  \n",
        "\n",
        "## Learning outcomes\n",
        "\n",
        "\n",
        "- Construct a steady-state flowsheet using the IDAES unit model library\n",
        "- Connecting unit models in a  flowsheet using Arcs\n",
        "- Using the SequentialDecomposition tool to initialize a flowsheet with recycle\n",
        "- Fomulate and solve an optimization problem\n",
        "    - Defining an objective function\n",
        "    - Setting variable bounds\n",
        "    - Adding additional constraints\n",
        "\n",
        "\n",
        "## Problem Statement\n",
        "\n",
        "Hydrodealkylation is a chemical reaction that often involves reacting\n",
        "an aromatic hydrocarbon in the presence of hydrogen gas to form a\n",
        "simpler aromatic hydrocarbon devoid of functional groups. In this\n",
        "example, toluene will be reacted with hydrogen gas at high temperatures\n",
        " to form benzene via the following reaction:\n",
        "\n",
        "**C<sub>6</sub>H<sub>5</sub>CH<sub>3</sub> + H<sub>2</sub> → C<sub>6</sub>H<sub>6</sub> + CH<sub>4</sub>**\n",
        "\n",
        "\n",
        "This reaction is often accompanied by an equilibrium side reaction\n",
        "which forms diphenyl, which we will neglect for this example.\n",
        "\n",
        "This example is based on the 1967 AIChE Student Contest problem as\n",
        "present by Douglas, J.M., Chemical  Design of Chemical Processes, 1988,\n",
        "McGraw-Hill.\n",
        "\n",
        "The flowsheet that we will be using for this module is shown below with the stream conditions. We will be processing toluene and hydrogen to produce at least 370 TPY of benzene. As shown in the flowsheet, there are two flash tanks, F101 to separate out the non-condensibles and F102 to further separate the benzene-toluene mixture to improve the benzene purity.  Note that typically a distillation column is required to obtain high purity benzene but that is beyond the scope of this workshop. The non-condensibles separated out in F101 will be partially recycled back to M101 and the rest will be either purged or combusted for power generation.We will assume ideal gas for this flowsheet. The properties required for this module are available in the same directory:\n",
        "\n",
        "- hda_ideal_VLE.py\n",
        "- hda_reaction.py\n",
        "\n",
        "The state variables chosen for the property package are **flows of component by phase, temperature and pressure**. The components considered are: **toluene, hydrogen, benzene and methane**. Therefore, every stream has 8 flow variables, 1 temperature and 1 pressure variable.\n",
        "\n",
        "![](HDA_flowsheet.png)\n",
        "\n"
      ]
    },
    {
      "cell_type": "markdown",
      "metadata": {
        "id": "7P7W36U-qoCE"
      },
      "source": [
        "## Importing required pyomo and idaes components\n",
        "\n",
        "\n",
        "To construct a flowsheet, we will need several components from the pyomo and idaes package. Let us first import the following components from Pyomo:\n",
        "- Constraint (to write constraints)\n",
        "- Var (to declare variables)\n",
        "- ConcreteModel (to create the concrete model object)\n",
        "- Expression (to evaluate values as a function of variables defined in the model)\n",
        "- Objective (to define an objective function for optimization)\n",
        "- SolverFactory (to solve the problem)\n",
        "- TransformationFactory (to apply certain transformations)\n",
        "- Arc (to connect two unit models)\n",
        "- SequentialDecomposition (to initialize the flowsheet in a sequential mode)\n",
        "\n",
        "For further details on these components, please refer to the pyomo documentation: https://pyomo.readthedocs.io/en/stable/\n"
      ]
    },
    {
      "cell_type": "code",
      "execution_count": 2,
      "metadata": {
        "id": "r0gxWXoCqoCE"
      },
      "outputs": [],
      "source": [
        "from pyomo.environ import (\n",
        "    Constraint,\n",
        "    Var,\n",
        "    ConcreteModel,\n",
        "    Expression,\n",
        "    Objective,\n",
        "    SolverFactory,\n",
        "    TransformationFactory,\n",
        "    value,\n",
        ")\n",
        "from pyomo.network import Arc, SequentialDecomposition"
      ]
    },
    {
      "cell_type": "markdown",
      "metadata": {
        "id": "guI-kaFTqoCE"
      },
      "source": [
        "From idaes, we will be needing the FlowsheetBlock and the following unit models:\n",
        "- Mixer\n",
        "- Heater\n",
        "- StoichiometricReactor\n",
        "- <span style=\"color:blue\">**Flash**</span>\n",
        "- Separator (splitter)\n",
        "- PressureChanger"
      ]
    },
    {
      "cell_type": "code",
      "execution_count": 3,
      "metadata": {
        "id": "a1wr0hKkqoCF"
      },
      "outputs": [],
      "source": [
        "from idaes.core import FlowsheetBlock"
      ]
    },
    {
      "cell_type": "code",
      "execution_count": 4,
      "metadata": {
        "id": "ZQLknw0QqoCF"
      },
      "outputs": [],
      "source": [
        "from idaes.models.unit_models import (\n",
        "    PressureChanger,\n",
        "    Mixer,\n",
        "    Separator as Splitter,\n",
        "    Heater,\n",
        "    StoichiometricReactor,\n",
        ")"
      ]
    },
    {
      "cell_type": "markdown",
      "metadata": {
        "id": "63TYAaKKqoCF"
      },
      "source": [
        "<div class=\"alert alert-block alert-info\">\n",
        "<b>Inline Exercise:</b>\n",
        "Now, import the remaining unit models highlighted in blue above and run the cell using `Shift+Enter` after typing in the code.\n",
        "</div>\n"
      ]
    },
    {
      "cell_type": "code",
      "execution_count": null,
      "metadata": {
        "tags": [
          "exercise"
        ],
        "id": "xx78URWvqoCF"
      },
      "outputs": [],
      "source": [
        "# Todo: import flash model from idaes.models.unit_models"
      ]
    },
    {
      "cell_type": "code",
      "execution_count": 5,
      "metadata": {
        "tags": [
          "solution"
        ],
        "id": "cUAqO_IsqoCF"
      },
      "outputs": [],
      "source": [
        "# Todo: import flash model from idaes.models.unit_models\n",
        "from idaes.models.unit_models import Flash"
      ]
    },
    {
      "cell_type": "markdown",
      "metadata": {
        "id": "G4PBavMtqoCG"
      },
      "source": [
        "We will also be needing some utility tools to put together the flowsheet and calculate the degrees of freedom."
      ]
    },
    {
      "cell_type": "code",
      "execution_count": 6,
      "metadata": {
        "id": "UIiDQiolqoCG"
      },
      "outputs": [],
      "source": [
        "from idaes.models.unit_models.pressure_changer import ThermodynamicAssumption\n",
        "from idaes.core.util.model_statistics import degrees_of_freedom\n",
        "\n",
        "# Import idaes logger to set output levels\n",
        "import idaes.logger as idaeslog\n",
        "from idaes.core.solvers import get_solver\n",
        "from idaes.core.util.exceptions import InitializationError"
      ]
    },
    {
      "cell_type": "markdown",
      "metadata": {
        "id": "k7ZQ7pZXqoCG"
      },
      "source": [
        "## Importing required thermo and reaction package\n",
        "\n",
        "The final set of imports are to import the thermo and reaction package for the HDA process. We have created a custom thermo package that assumes Ideal Gas with support for VLE.\n",
        "\n",
        "The reaction package here is very simple as we will be using only a StochiometricReactor and the reaction package consists of the stochiometric coefficients for the reaction and the parameter for the heat of reaction.\n",
        "\n",
        "Let us import the following modules and they are in the same directory as this jupyter notebook:\n",
        "      <ul>\n",
        "         <li>hda_ideal_VLE as thermo_props</li>\n",
        "         <li>hda_reaction as reaction_props </li>\n",
        "      </ul>\n",
        "</div>"
      ]
    },
    {
      "cell_type": "code",
      "execution_count": 7,
      "metadata": {
        "id": "98WH3BuPqoCG"
      },
      "outputs": [],
      "source": [
        "from idaes_examples.mod.hda import hda_ideal_VLE as thermo_props\n",
        "from idaes_examples.mod.hda import hda_reaction as reaction_props"
      ]
    },
    {
      "cell_type": "markdown",
      "metadata": {
        "id": "-kGJQTSRqoCG"
      },
      "source": [
        "## Constructing the Flowsheet\n",
        "\n",
        "We have now imported all the components, unit models, and property modules we need to construct a flowsheet. Let us create a ConcreteModel and add the flowsheet block as we did in module 1."
      ]
    },
    {
      "cell_type": "code",
      "execution_count": 8,
      "metadata": {
        "id": "1WoADCsiqoCG"
      },
      "outputs": [],
      "source": [
        "m = ConcreteModel()\n",
        "m.fs = FlowsheetBlock(dynamic=False)"
      ]
    },
    {
      "cell_type": "markdown",
      "metadata": {
        "id": "f5OjNLzRqoCG"
      },
      "source": [
        "We now need to add the property packages to the flowsheet. Unlike Module 1, where we only had a thermo property package, for this flowsheet we will also need to add a reaction property package."
      ]
    },
    {
      "cell_type": "code",
      "execution_count": 9,
      "metadata": {
        "id": "2wf3JeT8qoCG"
      },
      "outputs": [],
      "source": [
        "m.fs.thermo_params = thermo_props.HDAParameterBlock()\n",
        "m.fs.reaction_params = reaction_props.HDAReactionParameterBlock(\n",
        "    property_package=m.fs.thermo_params\n",
        ")"
      ]
    },
    {
      "cell_type": "markdown",
      "metadata": {
        "id": "UEu9xVsQqoCG"
      },
      "source": [
        "## Adding Unit Models\n",
        "\n",
        "Let us start adding the unit models we have imported to the flowsheet. Here, we are adding the Mixer (assigned a name M101) and a Heater (assigned a name H101). Note that, all unit models need to be given a property package argument. In addition to that, there are several arguments depending on the unit model, please refer to the documentation for more details (https://idaes-pse.readthedocs.io/en/stable/reference_guides/model_libraries/generic/unit_models/index.html). For example, the Mixer unit model here is given a `list` consisting of names to the three inlets."
      ]
    },
    {
      "cell_type": "code",
      "execution_count": 10,
      "metadata": {
        "id": "r5fncV3GqoCG"
      },
      "outputs": [],
      "source": [
        "m.fs.M101 = Mixer(\n",
        "    property_package=m.fs.thermo_params,\n",
        "    inlet_list=[\"toluene_feed\", \"hydrogen_feed\", \"vapor_recycle\"],\n",
        ")\n",
        "\n",
        "m.fs.H101 = Heater(\n",
        "    property_package=m.fs.thermo_params,\n",
        "    has_pressure_change=False,\n",
        "    has_phase_equilibrium=True,\n",
        ")"
      ]
    },
    {
      "cell_type": "markdown",
      "metadata": {
        "id": "qQkHATysqoCG"
      },
      "source": [
        "<div class=\"alert alert-block alert-info\">\n",
        "<b>Inline Exercise:</b>\n",
        "Let us now add the StoichiometricReactor(assign the name R101) and pass the following arguments:\n",
        "      <ul>\n",
        "         <li>\"property_package\": m.fs.thermo_params</li>\n",
        "         <li>\"reaction_package\": m.fs.reaction_params </li>\n",
        "         <li>\"has_heat_of_reaction\": True </li>\n",
        "         <li>\"has_heat_transfer\": True</li>\n",
        "         <li>\"has_pressure_change\": False</li>\n",
        "      </ul>\n",
        "</div>"
      ]
    },
    {
      "cell_type": "code",
      "execution_count": null,
      "metadata": {
        "tags": [
          "exercise"
        ],
        "id": "VYkJVhVCqoCG"
      },
      "outputs": [],
      "source": [
        "# Todo: Add reactor with the specifications above"
      ]
    },
    {
      "cell_type": "code",
      "execution_count": 11,
      "metadata": {
        "tags": [
          "solution"
        ],
        "id": "KBWpDNSQqoCH"
      },
      "outputs": [],
      "source": [
        "# Todo: Add reactor with the specifications above\n",
        "m.fs.R101 = StoichiometricReactor(\n",
        "    property_package=m.fs.thermo_params,\n",
        "    reaction_package=m.fs.reaction_params,\n",
        "    has_heat_of_reaction=True,\n",
        "    has_heat_transfer=True,\n",
        "    has_pressure_change=False,\n",
        ")"
      ]
    },
    {
      "cell_type": "markdown",
      "metadata": {
        "id": "4JrBy-GgqoCH"
      },
      "source": [
        "Let us now add the Flash(assign the name F101) and pass the following arguments:\n",
        "      <ul>\n",
        "         <li>\"property_package\": m.fs.thermo_params</li>\n",
        "         <li>\"has_heat_transfer\": True</li>\n",
        "         <li>\"has_pressure_change\": False</li>\n",
        "      </ul>"
      ]
    },
    {
      "cell_type": "code",
      "execution_count": 12,
      "metadata": {
        "id": "df88VhlRqoCH"
      },
      "outputs": [],
      "source": [
        "m.fs.F101 = Flash(\n",
        "    property_package=m.fs.thermo_params,\n",
        "    has_heat_transfer=True,\n",
        "    has_pressure_change=True,\n",
        ")"
      ]
    },
    {
      "cell_type": "markdown",
      "metadata": {
        "id": "kYtehlAJqoCH"
      },
      "source": [
        "Let us now add the Splitter(S101), PressureChanger(C101) and the second Flash(F102)."
      ]
    },
    {
      "cell_type": "code",
      "execution_count": 13,
      "metadata": {
        "id": "0tn_WDD7qoCH"
      },
      "outputs": [],
      "source": [
        "m.fs.S101 = Splitter(\n",
        "    property_package=m.fs.thermo_params,\n",
        "    ideal_separation=False,\n",
        "    outlet_list=[\"purge\", \"recycle\"],\n",
        ")\n",
        "\n",
        "\n",
        "m.fs.C101 = PressureChanger(\n",
        "    property_package=m.fs.thermo_params,\n",
        "    compressor=True,\n",
        "    thermodynamic_assumption=ThermodynamicAssumption.isothermal,\n",
        ")\n",
        "\n",
        "m.fs.F102 = Flash(\n",
        "    property_package=m.fs.thermo_params,\n",
        "    has_heat_transfer=True,\n",
        "    has_pressure_change=True,\n",
        ")"
      ]
    },
    {
      "cell_type": "markdown",
      "metadata": {
        "id": "cYdj-MnxqoCH"
      },
      "source": [
        "## Connecting Unit Models using Arcs\n",
        "\n",
        "We have now added all the unit models we need to the flowsheet. However, we have not yet specified how the units are to be connected. To do this, we will be using the `Arc` which is a pyomo component that takes in two arguments: `source` and `destination`. Let us connect the outlet of the mixer(M101) to the inlet of the heater(H101)."
      ]
    },
    {
      "cell_type": "code",
      "execution_count": 14,
      "metadata": {
        "id": "FiEZQSQFqoCH"
      },
      "outputs": [],
      "source": [
        "m.fs.s03 = Arc(source=m.fs.M101.outlet, destination=m.fs.H101.inlet)"
      ]
    },
    {
      "cell_type": "markdown",
      "metadata": {
        "id": "zThBWNYiqoCH"
      },
      "source": [
        "\n",
        "![](HDA_flowsheet.png)\n",
        "\n",
        "<div class=\"alert alert-block alert-info\">\n",
        "<b>Inline Exercise:</b>\n",
        "Now, connect the H101 outlet to the R101 inlet using the cell above as a guide.\n",
        "</div>\n",
        "\n"
      ]
    },
    {
      "cell_type": "code",
      "execution_count": 15,
      "metadata": {
        "tags": [
          "exercise"
        ],
        "id": "-z_b_0MHqoCH"
      },
      "outputs": [],
      "source": [
        "# Todo: Connect the H101 outlet to R101 inlet"
      ]
    },
    {
      "cell_type": "code",
      "execution_count": 16,
      "metadata": {
        "tags": [
          "solution"
        ],
        "id": "psZlc3JlqoCH"
      },
      "outputs": [],
      "source": [
        "# Todo: Connect the H101 outlet to R101 inlet\n",
        "m.fs.s04 = Arc(source=m.fs.H101.outlet, destination=m.fs.R101.inlet)"
      ]
    },
    {
      "cell_type": "markdown",
      "metadata": {
        "id": "L_S8IDm3qoCH"
      },
      "source": [
        "We will now be connecting the rest of the flowsheet as shown below. Notice how the outlet names are different for the flash tanks F101 and F102 as they have a vapor and a liquid outlet."
      ]
    },
    {
      "cell_type": "code",
      "execution_count": 17,
      "metadata": {
        "id": "a7q2QdBjqoCH"
      },
      "outputs": [],
      "source": [
        "m.fs.s05 = Arc(source=m.fs.R101.outlet, destination=m.fs.F101.inlet)\n",
        "m.fs.s06 = Arc(source=m.fs.F101.vap_outlet, destination=m.fs.S101.inlet)\n",
        "m.fs.s08 = Arc(source=m.fs.S101.recycle, destination=m.fs.C101.inlet)\n",
        "m.fs.s09 = Arc(source=m.fs.C101.outlet, destination=m.fs.M101.vapor_recycle)\n",
        "m.fs.s10 = Arc(source=m.fs.F101.liq_outlet, destination=m.fs.F102.inlet)"
      ]
    },
    {
      "cell_type": "markdown",
      "metadata": {
        "id": "qn2OwfjQqoCH"
      },
      "source": [
        "We have now connected the unit model block using the arcs. However, each of these arcs link to ports on the two unit models that are connected. In this case, the ports consist of the state variables that need to be linked between the unit models. Pyomo provides a convenient method to write these equality constraints for us between two ports and this is done as follows:"
      ]
    },
    {
      "cell_type": "code",
      "execution_count": 18,
      "metadata": {
        "id": "7SnmA6bBqoCH"
      },
      "outputs": [],
      "source": [
        "TransformationFactory(\"network.expand_arcs\").apply_to(m)"
      ]
    },
    {
      "cell_type": "markdown",
      "metadata": {
        "id": "FQiAZJduqoCH"
      },
      "source": [
        "## Adding expressions to compute purity and operating costs\n",
        "\n",
        "In this section, we will add a few Expressions that allows us to evaluate the performance. Expressions provide a convenient way of calculating certain values that are a function of the variables defined in the model. For more details on Expressions, please refer to: https://pyomo.readthedocs.io/en/stable/pyomo_modeling_components/Expressions.html\n",
        "\n",
        "For this flowsheet, we are interested in computing the purity of the product Benzene stream (i.e. the mole fraction) and the operating cost which is a sum of the cooling and heating cost."
      ]
    },
    {
      "cell_type": "markdown",
      "metadata": {
        "id": "9QgAaTWqqoCH"
      },
      "source": [
        "Let us first add an Expression to compute the mole fraction of benzene in the `vap_outlet` of F102 which is our product stream. Please note that the var flow_mol_phase_comp has the index - [time, phase, component]. As this is a steady-state flowsheet, the time index by default is 0. The valid phases are [\"Liq\", \"Vap\"]. Similarly the valid component list is [\"benzene\", \"toluene\", \"hydrogen\", \"methane\"]."
      ]
    },
    {
      "cell_type": "code",
      "execution_count": 19,
      "metadata": {
        "id": "Hq53dRImqoCH"
      },
      "outputs": [],
      "source": [
        "m.fs.purity = Expression(\n",
        "    expr=m.fs.F102.vap_outlet.flow_mol_phase_comp[0, \"Vap\", \"benzene\"]\n",
        "    / (\n",
        "        m.fs.F102.vap_outlet.flow_mol_phase_comp[0, \"Vap\", \"benzene\"]\n",
        "        + m.fs.F102.vap_outlet.flow_mol_phase_comp[0, \"Vap\", \"toluene\"]\n",
        "    )\n",
        ")"
      ]
    },
    {
      "cell_type": "markdown",
      "metadata": {
        "id": "YWotZYmSqoCL"
      },
      "source": [
        "Now, let us add an expression to compute the cooling cost assuming a cost of 0.212E-4 $/kW. Note that cooling utility is required for the reactor (R101) and the first flash (F101)."
      ]
    },
    {
      "cell_type": "code",
      "execution_count": 20,
      "metadata": {
        "id": "bYW669dQqoCL"
      },
      "outputs": [],
      "source": [
        "m.fs.cooling_cost = Expression(\n",
        "    expr=0.212e-7 * (-m.fs.F101.heat_duty[0]) + 0.212e-7 * (-m.fs.R101.heat_duty[0])\n",
        ")"
      ]
    },
    {
      "cell_type": "markdown",
      "metadata": {
        "id": "PocfdT31qoCL"
      },
      "source": [
        "\n",
        "Now, let us add an expression to compute the heating cost assuming the utility cost as follows:\n",
        "      <ul>\n",
        "         <li>2.2E-4 dollars/kW for H101</li>\n",
        "         <li>1.9E-4 dollars/kW for F102</li>\n",
        "      </ul>\n",
        "Note that the heat duty is in units of watt (J/s)."
      ]
    },
    {
      "cell_type": "code",
      "execution_count": 21,
      "metadata": {
        "id": "D8_uMDNpqoCL"
      },
      "outputs": [],
      "source": [
        "m.fs.heating_cost = Expression(\n",
        "    expr=2.2e-7 * m.fs.H101.heat_duty[0] + 1.9e-7 * m.fs.F102.heat_duty[0]\n",
        ")"
      ]
    },
    {
      "cell_type": "markdown",
      "metadata": {
        "id": "fSCaJ6M2qoCL"
      },
      "source": [
        "Let us now add an expression to compute the total operating cost per year which is basically the sum of the cooling and heating cost we defined above."
      ]
    },
    {
      "cell_type": "code",
      "execution_count": 22,
      "metadata": {
        "id": "tcvvIk80qoCL"
      },
      "outputs": [],
      "source": [
        "m.fs.operating_cost = Expression(\n",
        "    expr=(3600 * 24 * 365 * (m.fs.heating_cost + m.fs.cooling_cost))\n",
        ")"
      ]
    },
    {
      "cell_type": "markdown",
      "metadata": {
        "id": "BwfRtPJXqoCL"
      },
      "source": [
        "## Fixing feed conditions\n",
        "\n",
        "Let us first check how many degrees of freedom exist for this flowsheet using the `degrees_of_freedom` tool we imported earlier."
      ]
    },
    {
      "cell_type": "code",
      "execution_count": 23,
      "metadata": {
        "colab": {
          "base_uri": "https://localhost:8080/"
        },
        "id": "1i7lQ86RqoCL",
        "outputId": "c9e8f5ca-d369-4bca-b1c6-4bc288321cb1"
      },
      "outputs": [
        {
          "output_type": "stream",
          "name": "stdout",
          "text": [
            "29\n"
          ]
        }
      ],
      "source": [
        "print(degrees_of_freedom(m))"
      ]
    },
    {
      "cell_type": "markdown",
      "metadata": {
        "id": "gwfQHFTyqoCL"
      },
      "source": [
        "We will now be fixing the toluene feed stream to the conditions shown in the flowsheet above. Please note that though this is a pure toluene feed, the remaining components are still assigned a very small non-zero value to help with convergence and initializing."
      ]
    },
    {
      "cell_type": "code",
      "execution_count": 24,
      "metadata": {
        "id": "KQyg1iFvqoCL"
      },
      "outputs": [],
      "source": [
        "m.fs.M101.toluene_feed.flow_mol_phase_comp[0, \"Vap\", \"benzene\"].fix(1e-5)\n",
        "m.fs.M101.toluene_feed.flow_mol_phase_comp[0, \"Vap\", \"toluene\"].fix(1e-5)\n",
        "m.fs.M101.toluene_feed.flow_mol_phase_comp[0, \"Vap\", \"hydrogen\"].fix(1e-5)\n",
        "m.fs.M101.toluene_feed.flow_mol_phase_comp[0, \"Vap\", \"methane\"].fix(1e-5)\n",
        "m.fs.M101.toluene_feed.flow_mol_phase_comp[0, \"Liq\", \"benzene\"].fix(1e-5)\n",
        "m.fs.M101.toluene_feed.flow_mol_phase_comp[0, \"Liq\", \"toluene\"].fix(0.30)\n",
        "m.fs.M101.toluene_feed.flow_mol_phase_comp[0, \"Liq\", \"hydrogen\"].fix(1e-5)\n",
        "m.fs.M101.toluene_feed.flow_mol_phase_comp[0, \"Liq\", \"methane\"].fix(1e-5)\n",
        "m.fs.M101.toluene_feed.temperature.fix(303.2)\n",
        "m.fs.M101.toluene_feed.pressure.fix(350000)"
      ]
    },
    {
      "cell_type": "markdown",
      "metadata": {
        "id": "dvVkJ-0oqoCL"
      },
      "source": [
        "\n",
        "Similarly, let us fix the hydrogen feed to the following conditions in the next cell:\n",
        "      <ul>\n",
        "         <li>F<sub>H2</sub> = 0.30 mol/s</li>\n",
        "         <li>F<sub>CH4</sub> = 0.02 mol/s</li>\n",
        "         <li>Remaining components = 1e-5 mol/s</li>\n",
        "         <li>T = 303.2 K</li>\n",
        "         <li>P = 350000 Pa</li>\n",
        "      </ul>\n",
        "\n"
      ]
    },
    {
      "cell_type": "code",
      "execution_count": 25,
      "metadata": {
        "id": "NfjP61_WqoCL"
      },
      "outputs": [],
      "source": [
        "m.fs.M101.hydrogen_feed.flow_mol_phase_comp[0, \"Vap\", \"benzene\"].fix(1e-5)\n",
        "m.fs.M101.hydrogen_feed.flow_mol_phase_comp[0, \"Vap\", \"toluene\"].fix(1e-5)\n",
        "m.fs.M101.hydrogen_feed.flow_mol_phase_comp[0, \"Vap\", \"hydrogen\"].fix(0.30)\n",
        "m.fs.M101.hydrogen_feed.flow_mol_phase_comp[0, \"Vap\", \"methane\"].fix(0.02)\n",
        "m.fs.M101.hydrogen_feed.flow_mol_phase_comp[0, \"Liq\", \"benzene\"].fix(1e-5)\n",
        "m.fs.M101.hydrogen_feed.flow_mol_phase_comp[0, \"Liq\", \"toluene\"].fix(1e-5)\n",
        "m.fs.M101.hydrogen_feed.flow_mol_phase_comp[0, \"Liq\", \"hydrogen\"].fix(1e-5)\n",
        "m.fs.M101.hydrogen_feed.flow_mol_phase_comp[0, \"Liq\", \"methane\"].fix(1e-5)\n",
        "m.fs.M101.hydrogen_feed.temperature.fix(303.2)\n",
        "m.fs.M101.hydrogen_feed.pressure.fix(350000)"
      ]
    },
    {
      "cell_type": "markdown",
      "metadata": {
        "id": "jfftNIvCqoCL"
      },
      "source": [
        "## Fixing unit model specifications\n",
        "\n",
        "Now that we have fixed our inlet feed conditions, we will now be fixing the operating conditions for the unit models in the flowsheet. Let us set set the H101 outlet temperature to 600 K."
      ]
    },
    {
      "cell_type": "code",
      "execution_count": 26,
      "metadata": {
        "id": "925XNWwvqoCL"
      },
      "outputs": [],
      "source": [
        "m.fs.H101.outlet.temperature.fix(600)"
      ]
    },
    {
      "cell_type": "markdown",
      "metadata": {
        "id": "T8iueMiaqoCM"
      },
      "source": [
        "For the StoichiometricReactor, we have to define the conversion in terms of toluene. This requires us to create a new variable for specifying the conversion and adding a Constraint that defines the conversion with respect to toluene. The second degree of freedom for the reactor is to define the heat duty. In this case, let us assume the reactor to be adiabatic i.e. Q = 0."
      ]
    },
    {
      "cell_type": "code",
      "execution_count": 27,
      "metadata": {
        "id": "jhh6_mauqoCM"
      },
      "outputs": [],
      "source": [
        "m.fs.R101.conversion = Var(initialize=0.75, bounds=(0, 1))\n",
        "\n",
        "m.fs.R101.conv_constraint = Constraint(\n",
        "    expr=m.fs.R101.conversion * m.fs.R101.inlet.flow_mol_phase_comp[0, \"Vap\", \"toluene\"]\n",
        "    == (\n",
        "        m.fs.R101.inlet.flow_mol_phase_comp[0, \"Vap\", \"toluene\"]\n",
        "        - m.fs.R101.outlet.flow_mol_phase_comp[0, \"Vap\", \"toluene\"]\n",
        "    )\n",
        ")\n",
        "\n",
        "m.fs.R101.conversion.fix(0.75)\n",
        "m.fs.R101.heat_duty.fix(0)"
      ]
    },
    {
      "cell_type": "markdown",
      "metadata": {
        "id": "lyC39g_6qoCM"
      },
      "source": [
        "The Flash conditions for F101 can be set as follows."
      ]
    },
    {
      "cell_type": "code",
      "execution_count": 28,
      "metadata": {
        "id": "Bw4GC-s2qoCM"
      },
      "outputs": [],
      "source": [
        "m.fs.F101.vap_outlet.temperature.fix(325.0)\n",
        "m.fs.F101.deltaP.fix(0)"
      ]
    },
    {
      "cell_type": "markdown",
      "metadata": {
        "id": "5NTP7XbAqoCM"
      },
      "source": [
        "<div class=\"alert alert-block alert-info\">\n",
        "<b>Inline Exercise:</b>\n",
        "Set the conditions for Flash F102 to the following conditions:\n",
        "      <ul>\n",
        "         <li>T = 375 K</li>\n",
        "         <li>deltaP = -200000</li>\n",
        "      </ul>\n",
        "\n",
        "Use Shift+Enter to run the cell once you have typed in your code.\n",
        "</div>"
      ]
    },
    {
      "cell_type": "code",
      "execution_count": null,
      "metadata": {
        "tags": [
          "exercise"
        ],
        "id": "UlcqbeQMqoCM"
      },
      "outputs": [],
      "source": [
        "# Todo: Set conditions for Flash F102"
      ]
    },
    {
      "cell_type": "code",
      "execution_count": 29,
      "metadata": {
        "tags": [
          "solution"
        ],
        "id": "oCK4g22oqoCM"
      },
      "outputs": [],
      "source": [
        "m.fs.F102.vap_outlet.temperature.fix(375)\n",
        "m.fs.F102.deltaP.fix(-200000)"
      ]
    },
    {
      "cell_type": "markdown",
      "metadata": {
        "id": "fDAS5LPuqoCM"
      },
      "source": [
        "Let us fix the purge split fraction to 20% and the outlet pressure of the compressor is set to 350000 Pa."
      ]
    },
    {
      "cell_type": "code",
      "execution_count": 30,
      "metadata": {
        "id": "NJjSWFQpqoCM"
      },
      "outputs": [],
      "source": [
        "m.fs.S101.split_fraction[0, \"purge\"].fix(0.2)\n",
        "m.fs.C101.outlet.pressure.fix(350000)"
      ]
    },
    {
      "cell_type": "markdown",
      "metadata": {
        "id": "napUrj6-qoCM"
      },
      "source": [
        "<div class=\"alert alert-block alert-info\">\n",
        "<b>Inline Exercise:</b>\n",
        "We have now defined all the feed conditions and the inputs required for the unit models. The system should now have 0 degrees of freedom i.e. should be a square problem. Please check that the degrees of freedom is 0.\n",
        "\n",
        "Use Shift+Enter to run the cell once you have typed in your code.\n",
        "</div>"
      ]
    },
    {
      "cell_type": "code",
      "execution_count": null,
      "metadata": {
        "tags": [
          "exercise"
        ],
        "id": "UvACgcaKqoCM"
      },
      "outputs": [],
      "source": [
        "# Todo: print the degrees of freedom"
      ]
    },
    {
      "cell_type": "code",
      "execution_count": 31,
      "metadata": {
        "tags": [
          "solution"
        ],
        "colab": {
          "base_uri": "https://localhost:8080/"
        },
        "id": "FgHqrgYrqoCM",
        "outputId": "b3b435b3-63a2-4b86-8cb7-5cda5a3dea75"
      },
      "outputs": [
        {
          "output_type": "stream",
          "name": "stdout",
          "text": [
            "0\n"
          ]
        }
      ],
      "source": [
        "print(degrees_of_freedom(m))"
      ]
    },
    {
      "cell_type": "markdown",
      "metadata": {
        "id": "oY_Nh3UpqoCM"
      },
      "source": [
        "## Initialization\n",
        "\n",
        "\n",
        "This section will demonstrate how to use the built-in sequential decomposition tool to initialize our flowsheet.\n",
        "\n",
        "![](HDA_flowsheet.png)\n"
      ]
    },
    {
      "cell_type": "markdown",
      "metadata": {
        "id": "35GOT2R5qoCM"
      },
      "source": [
        "Let us first create an object for the SequentialDecomposition and specify our options for this."
      ]
    },
    {
      "cell_type": "code",
      "execution_count": 32,
      "metadata": {
        "id": "P0xVkAJXqoCM"
      },
      "outputs": [],
      "source": [
        "seq = SequentialDecomposition()\n",
        "seq.options.select_tear_method = \"heuristic\"\n",
        "seq.options.tear_method = \"Wegstein\"\n",
        "seq.options.iterLim = 3\n",
        "\n",
        "# Using the SD tool\n",
        "G = seq.create_graph(m)\n",
        "heuristic_tear_set = seq.tear_set_arcs(G, method=\"heuristic\")\n",
        "order = seq.calculation_order(G)"
      ]
    },
    {
      "cell_type": "markdown",
      "metadata": {
        "id": "B3NXhtesqoCM"
      },
      "source": [
        "Which is the tear stream? Display tear set and order"
      ]
    },
    {
      "cell_type": "code",
      "execution_count": 33,
      "metadata": {
        "colab": {
          "base_uri": "https://localhost:8080/"
        },
        "id": "-VP3M_ebqoCN",
        "outputId": "8ad4235d-1c0f-43d2-abc3-05955aa1ea95"
      },
      "outputs": [
        {
          "output_type": "stream",
          "name": "stdout",
          "text": [
            "fs.s03\n"
          ]
        }
      ],
      "source": [
        "for o in heuristic_tear_set:\n",
        "    print(o.name)"
      ]
    },
    {
      "cell_type": "markdown",
      "metadata": {
        "id": "CF-4JjjtqoCN"
      },
      "source": [
        "What sequence did the SD tool determine to solve this flowsheet with the least number of tears?"
      ]
    },
    {
      "cell_type": "code",
      "execution_count": 34,
      "metadata": {
        "scrolled": true,
        "colab": {
          "base_uri": "https://localhost:8080/"
        },
        "id": "REbxouYVqoCN",
        "outputId": "015744a7-ccc5-4472-bb48-820747f485d4"
      },
      "outputs": [
        {
          "output_type": "stream",
          "name": "stdout",
          "text": [
            "fs.H101\n",
            "fs.R101\n",
            "fs.F101\n",
            "fs.S101\n",
            "fs.C101\n",
            "fs.M101\n"
          ]
        }
      ],
      "source": [
        "for o in order:\n",
        "    print(o[0].name)"
      ]
    },
    {
      "cell_type": "markdown",
      "metadata": {
        "id": "fbEe8c35qoCN"
      },
      "source": [
        "\n",
        "\n",
        "![](HDA_tear_stream.png)\n",
        "\n",
        "\n",
        "The SequentialDecomposition tool has determined that the tear stream is the mixer outlet. We will need to provide a reasonable guess for this."
      ]
    },
    {
      "cell_type": "code",
      "execution_count": 35,
      "metadata": {
        "id": "zDpz6kTVqoCN"
      },
      "outputs": [],
      "source": [
        "tear_guesses = {\n",
        "    \"flow_mol_phase_comp\": {\n",
        "        (0, \"Vap\", \"benzene\"): 1e-5,\n",
        "        (0, \"Vap\", \"toluene\"): 1e-5,\n",
        "        (0, \"Vap\", \"hydrogen\"): 0.30,\n",
        "        (0, \"Vap\", \"methane\"): 0.02,\n",
        "        (0, \"Liq\", \"benzene\"): 1e-5,\n",
        "        (0, \"Liq\", \"toluene\"): 0.30,\n",
        "        (0, \"Liq\", \"hydrogen\"): 1e-5,\n",
        "        (0, \"Liq\", \"methane\"): 1e-5,\n",
        "    },\n",
        "    \"temperature\": {0: 303},\n",
        "    \"pressure\": {0: 350000},\n",
        "}\n",
        "\n",
        "# Pass the tear_guess to the SD tool\n",
        "seq.set_guesses_for(m.fs.H101.inlet, tear_guesses)"
      ]
    },
    {
      "cell_type": "markdown",
      "metadata": {
        "id": "-NWhcMGJqoCN"
      },
      "source": [
        "Next, we need to tell the tool how to initialize a particular unit. We will be writing a python function which takes in a \"unit\" and calls the initialize method on that unit."
      ]
    },
    {
      "cell_type": "code",
      "execution_count": 36,
      "metadata": {
        "id": "ChiytIfkqoCN"
      },
      "outputs": [],
      "source": [
        "def function(unit):\n",
        "    try:\n",
        "        initializer = unit.default_initializer()\n",
        "        initializer.initialize(unit, output_level=idaeslog.INFO)\n",
        "    except InitializationError:\n",
        "        solver = get_solver()\n",
        "        solver.solve(unit)"
      ]
    },
    {
      "cell_type": "markdown",
      "metadata": {
        "id": "prUvE1EFqoCN"
      },
      "source": [
        "We are now ready to initialize our flowsheet in a sequential mode. Note that we specifically set the iteration limit to be 5 as we are trying to use this tool only to get a good set of initial values such that IPOPT can then take over and solve this flowsheet for us."
      ]
    },
    {
      "cell_type": "code",
      "execution_count": 37,
      "metadata": {
        "colab": {
          "base_uri": "https://localhost:8080/"
        },
        "id": "VaarPgQMqoCN",
        "outputId": "95aba6f8-29ad-4967-f569-8fc29ea22819"
      },
      "outputs": [
        {
          "output_type": "stream",
          "name": "stdout",
          "text": [
            "2025-08-27 18:01:33 [INFO] idaes.init.fs.H101.control_volume.properties_in: Initialization Complete\n",
            "2025-08-27 18:01:37 [INFO] idaes.init.fs.H101.control_volume.properties_out: Initialization Complete\n",
            "2025-08-27 18:01:37 [INFO] idaes.init.fs.R101.control_volume.properties_in: Initialization Complete\n",
            "2025-08-27 18:01:37 [INFO] idaes.init.fs.R101.control_volume.properties_out: Initialization Complete\n",
            "2025-08-27 18:01:37 [INFO] idaes.init.fs.F101.control_volume.properties_in: Initialization Complete\n",
            "2025-08-27 18:01:37 [INFO] idaes.init.fs.F101.control_volume.properties_out: Initialization Complete\n",
            "2025-08-27 18:01:38 [INFO] idaes.init.fs.S101.mixed_state: Initialization Complete\n",
            "2025-08-27 18:01:38 [INFO] idaes.init.fs.S101.purge_state: Initialization Complete\n",
            "2025-08-27 18:01:38 [INFO] idaes.init.fs.S101.recycle_state: Initialization Complete\n",
            "2025-08-27 18:01:38 [INFO] idaes.init.fs.S101: Initialization Step 2 Complete: optimal - <undefined>\n",
            "2025-08-27 18:01:38 [INFO] idaes.init.fs.F102.control_volume.properties_in: Initialization Complete\n",
            "2025-08-27 18:01:38 [INFO] idaes.init.fs.F102.control_volume.properties_out: Initialization Complete\n",
            "2025-08-27 18:01:38 [INFO] idaes.init.fs.C101.control_volume.properties_in: Initialization Complete\n",
            "2025-08-27 18:01:38 [INFO] idaes.init.fs.C101.control_volume.properties_out: Initialization Complete\n",
            "2025-08-27 18:01:38 [INFO] idaes.init.fs.M101.toluene_feed_state: Initialization Complete\n",
            "2025-08-27 18:01:38 [INFO] idaes.init.fs.M101.hydrogen_feed_state: Initialization Complete\n",
            "2025-08-27 18:01:38 [INFO] idaes.init.fs.M101.vapor_recycle_state: Initialization Complete\n",
            "2025-08-27 18:01:38 [INFO] idaes.init.fs.M101.mixed_state: Initialization Complete\n",
            "2025-08-27 18:01:38 [INFO] idaes.init.fs.M101: Initialization Complete: optimal - <undefined>\n",
            "2025-08-27 18:01:38 [INFO] idaes.init.fs.H101.control_volume.properties_in: Initialization Complete\n",
            "2025-08-27 18:01:38 [INFO] idaes.init.fs.H101.control_volume.properties_out: Initialization Complete\n",
            "2025-08-27 18:01:38 [INFO] idaes.init.fs.R101.control_volume.properties_in: Initialization Complete\n",
            "2025-08-27 18:01:38 [INFO] idaes.init.fs.R101.control_volume.properties_out: Initialization Complete\n",
            "2025-08-27 18:01:38 [INFO] idaes.init.fs.F101.control_volume.properties_in: Initialization Complete\n",
            "2025-08-27 18:01:38 [INFO] idaes.init.fs.F101.control_volume.properties_out: Initialization Complete\n",
            "2025-08-27 18:01:38 [INFO] idaes.init.fs.S101.mixed_state: Initialization Complete\n",
            "2025-08-27 18:01:38 [INFO] idaes.init.fs.S101.purge_state: Initialization Complete\n",
            "2025-08-27 18:01:38 [INFO] idaes.init.fs.S101.recycle_state: Initialization Complete\n",
            "2025-08-27 18:01:38 [INFO] idaes.init.fs.S101: Initialization Step 2 Complete: optimal - <undefined>\n",
            "2025-08-27 18:01:38 [INFO] idaes.init.fs.C101.control_volume.properties_in: Initialization Complete\n",
            "2025-08-27 18:01:38 [INFO] idaes.init.fs.C101.control_volume.properties_out: Initialization Complete\n",
            "2025-08-27 18:01:39 [INFO] idaes.init.fs.M101.toluene_feed_state: Initialization Complete\n",
            "2025-08-27 18:01:39 [INFO] idaes.init.fs.M101.hydrogen_feed_state: Initialization Complete\n",
            "2025-08-27 18:01:39 [INFO] idaes.init.fs.M101.vapor_recycle_state: Initialization Complete\n",
            "2025-08-27 18:01:39 [INFO] idaes.init.fs.M101.mixed_state: Initialization Complete\n",
            "2025-08-27 18:01:39 [INFO] idaes.init.fs.M101: Initialization Complete: optimal - <undefined>\n",
            "2025-08-27 18:01:39 [INFO] idaes.init.fs.H101.control_volume.properties_in: Initialization Complete\n",
            "2025-08-27 18:01:39 [INFO] idaes.init.fs.H101.control_volume.properties_out: Initialization Complete\n"
          ]
        },
        {
          "output_type": "stream",
          "name": "stderr",
          "text": [
            "WARNING:pyomo.contrib.solver.solvers.ipopt:Error converting Ipopt log entry to float:\n",
            "\tcould not convert string to float: '0.00e+00S'\n",
            "\t  59r 0.0000000e+00 2.06e+04 2.95e+09  -1.5 1.69e-01   6.9 5.41e-04 0.00e+00S  9\n"
          ]
        },
        {
          "output_type": "stream",
          "name": "stdout",
          "text": [
            "2025-08-27 18:01:39 [INFO] idaes.init.fs.R101.control_volume.properties_in: Initialization Complete\n",
            "2025-08-27 18:01:39 [INFO] idaes.init.fs.R101.control_volume.properties_out: Initialization Complete\n",
            "2025-08-27 18:01:39 [INFO] idaes.init.fs.F101.control_volume.properties_in: Initialization Complete\n",
            "2025-08-27 18:01:39 [INFO] idaes.init.fs.F101.control_volume.properties_out: Initialization Complete\n",
            "2025-08-27 18:01:39 [INFO] idaes.init.fs.S101.mixed_state: Initialization Complete\n",
            "2025-08-27 18:01:39 [INFO] idaes.init.fs.S101.purge_state: Initialization Complete\n",
            "2025-08-27 18:01:39 [INFO] idaes.init.fs.S101.recycle_state: Initialization Complete\n",
            "2025-08-27 18:01:39 [INFO] idaes.init.fs.S101: Initialization Step 2 Complete: optimal - <undefined>\n",
            "2025-08-27 18:01:39 [INFO] idaes.init.fs.C101.control_volume.properties_in: Initialization Complete\n",
            "2025-08-27 18:01:39 [INFO] idaes.init.fs.C101.control_volume.properties_out: Initialization Complete\n",
            "2025-08-27 18:01:39 [INFO] idaes.init.fs.M101.toluene_feed_state: Initialization Complete\n",
            "2025-08-27 18:01:39 [INFO] idaes.init.fs.M101.hydrogen_feed_state: Initialization Complete\n",
            "2025-08-27 18:01:39 [INFO] idaes.init.fs.M101.vapor_recycle_state: Initialization Complete\n",
            "2025-08-27 18:01:39 [INFO] idaes.init.fs.M101.mixed_state: Initialization Complete\n",
            "2025-08-27 18:01:40 [INFO] idaes.init.fs.M101: Initialization Complete: optimal - <undefined>\n",
            "2025-08-27 18:01:40 [INFO] idaes.init.fs.H101.control_volume.properties_in: Initialization Complete\n",
            "2025-08-27 18:01:40 [INFO] idaes.init.fs.H101.control_volume.properties_out: Initialization Complete\n",
            "2025-08-27 18:01:40 [INFO] idaes.init.fs.R101.control_volume.properties_in: Initialization Complete\n",
            "2025-08-27 18:01:40 [INFO] idaes.init.fs.R101.control_volume.properties_out: Initialization Complete\n",
            "2025-08-27 18:01:40 [INFO] idaes.init.fs.F101.control_volume.properties_in: Initialization Complete\n",
            "2025-08-27 18:01:40 [INFO] idaes.init.fs.F101.control_volume.properties_out: Initialization Complete\n",
            "2025-08-27 18:01:40 [INFO] idaes.init.fs.S101.mixed_state: Initialization Complete\n",
            "2025-08-27 18:01:40 [INFO] idaes.init.fs.S101.purge_state: Initialization Complete\n",
            "2025-08-27 18:01:40 [INFO] idaes.init.fs.S101.recycle_state: Initialization Complete\n",
            "2025-08-27 18:01:40 [INFO] idaes.init.fs.S101: Initialization Step 2 Complete: optimal - <undefined>\n",
            "2025-08-27 18:01:40 [INFO] idaes.init.fs.C101.control_volume.properties_in: Initialization Complete\n",
            "2025-08-27 18:01:40 [INFO] idaes.init.fs.C101.control_volume.properties_out: Initialization Complete\n",
            "2025-08-27 18:01:40 [INFO] idaes.init.fs.M101.toluene_feed_state: Initialization Complete\n",
            "2025-08-27 18:01:40 [INFO] idaes.init.fs.M101.hydrogen_feed_state: Initialization Complete\n",
            "2025-08-27 18:01:40 [INFO] idaes.init.fs.M101.vapor_recycle_state: Initialization Complete\n",
            "2025-08-27 18:01:40 [INFO] idaes.init.fs.M101.mixed_state: Initialization Complete\n",
            "2025-08-27 18:01:40 [INFO] idaes.init.fs.M101: Initialization Complete: optimal - <undefined>\n",
            "2025-08-27 18:01:40 [INFO] idaes.init.fs.H101.control_volume.properties_in: Initialization Complete\n",
            "2025-08-27 18:01:40 [INFO] idaes.init.fs.H101.control_volume.properties_out: Initialization Complete\n",
            "2025-08-27 18:01:40 [INFO] idaes.init.fs.R101.control_volume.properties_in: Initialization Complete\n",
            "2025-08-27 18:01:40 [INFO] idaes.init.fs.R101.control_volume.properties_out: Initialization Complete\n",
            "2025-08-27 18:01:40 [INFO] idaes.init.fs.F101.control_volume.properties_in: Initialization Complete\n",
            "2025-08-27 18:01:40 [INFO] idaes.init.fs.F101.control_volume.properties_out: Initialization Complete\n",
            "2025-08-27 18:01:41 [INFO] idaes.init.fs.S101.mixed_state: Initialization Complete\n",
            "2025-08-27 18:01:41 [INFO] idaes.init.fs.S101.purge_state: Initialization Complete\n",
            "2025-08-27 18:01:41 [INFO] idaes.init.fs.S101.recycle_state: Initialization Complete\n",
            "2025-08-27 18:01:41 [INFO] idaes.init.fs.S101: Initialization Step 2 Complete: optimal - <undefined>\n",
            "2025-08-27 18:01:41 [INFO] idaes.init.fs.C101.control_volume.properties_in: Initialization Complete\n",
            "2025-08-27 18:01:41 [INFO] idaes.init.fs.C101.control_volume.properties_out: Initialization Complete\n",
            "2025-08-27 18:01:41 [INFO] idaes.init.fs.M101.toluene_feed_state: Initialization Complete\n",
            "2025-08-27 18:01:41 [INFO] idaes.init.fs.M101.hydrogen_feed_state: Initialization Complete\n",
            "2025-08-27 18:01:41 [INFO] idaes.init.fs.M101.vapor_recycle_state: Initialization Complete\n",
            "2025-08-27 18:01:41 [INFO] idaes.init.fs.M101.mixed_state: Initialization Complete\n",
            "2025-08-27 18:01:41 [INFO] idaes.init.fs.M101: Initialization Complete: optimal - <undefined>\n"
          ]
        },
        {
          "output_type": "stream",
          "name": "stderr",
          "text": [
            "WARNING:pyomo.network:Wegstein failed to converge in 3 iterations\n"
          ]
        },
        {
          "output_type": "stream",
          "name": "stdout",
          "text": [
            "2025-08-27 18:01:41 [INFO] idaes.init.fs.F102.control_volume.properties_in: Initialization Complete\n",
            "2025-08-27 18:01:41 [INFO] idaes.init.fs.F102.control_volume.properties_out: Initialization Complete\n"
          ]
        }
      ],
      "source": [
        "seq.run(m, function)"
      ]
    },
    {
      "cell_type": "markdown",
      "metadata": {
        "id": "f9KCc1JOqoCN"
      },
      "source": [
        "<div class=\"alert alert-block alert-info\">\n",
        "<b>Inline Exercise:</b>\n",
        "We have now initialized the flowsheet. Let us run the flowsheet in a simulation mode to look at the results. To do this, complete the last line of code where we pass the model to the solver. You will need to type the following:\n",
        "    \n",
        "results = solver.solve(m, tee=True)\n",
        "\n",
        "Use Shift+Enter to run the cell once you have typed in your code.\n",
        "</div>\n",
        "\n"
      ]
    },
    {
      "cell_type": "code",
      "execution_count": null,
      "metadata": {
        "tags": [
          "exercise"
        ],
        "id": "opbUi2LrqoCN"
      },
      "outputs": [],
      "source": [
        "# Create the solver object\n",
        "\n",
        "\n",
        "# Solve the model"
      ]
    },
    {
      "cell_type": "code",
      "execution_count": 38,
      "metadata": {
        "tags": [
          "solution"
        ],
        "colab": {
          "base_uri": "https://localhost:8080/"
        },
        "id": "w9L5aN9HqoCN",
        "outputId": "01736bf6-f0dc-4079-987b-d8d3b04fd327"
      },
      "outputs": [
        {
          "output_type": "stream",
          "name": "stdout",
          "text": [
            "Ipopt 3.13.2: nlp_scaling_method=gradient-based\n",
            "tol=1e-06\n",
            "max_iter=200\n",
            "\n",
            "\n",
            "******************************************************************************\n",
            "This program contains Ipopt, a library for large-scale nonlinear optimization.\n",
            " Ipopt is released as open source code under the Eclipse Public License (EPL).\n",
            "         For more information visit http://projects.coin-or.org/Ipopt\n",
            "\n",
            "This version of Ipopt was compiled from source code available at\n",
            "    https://github.com/IDAES/Ipopt as part of the Institute for the Design of\n",
            "    Advanced Energy Systems Process Systems Engineering Framework (IDAES PSE\n",
            "    Framework) Copyright (c) 2018-2019. See https://github.com/IDAES/idaes-pse.\n",
            "\n",
            "This version of Ipopt was compiled using HSL, a collection of Fortran codes\n",
            "    for large-scale scientific computation.  All technical papers, sales and\n",
            "    publicity material resulting from use of the HSL codes within IPOPT must\n",
            "    contain the following acknowledgement:\n",
            "        HSL, a collection of Fortran codes for large-scale scientific\n",
            "        computation. See http://www.hsl.rl.ac.uk.\n",
            "******************************************************************************\n",
            "\n",
            "This is Ipopt version 3.13.2, running with linear solver ma27.\n",
            "\n",
            "Number of nonzeros in equality constraint Jacobian...:     1031\n",
            "Number of nonzeros in inequality constraint Jacobian.:        0\n",
            "Number of nonzeros in Lagrangian Hessian.............:      934\n",
            "\n",
            "Total number of variables............................:      340\n",
            "                     variables with only lower bounds:        0\n",
            "                variables with lower and upper bounds:      146\n",
            "                     variables with only upper bounds:        0\n",
            "Total number of equality constraints.................:      340\n",
            "Total number of inequality constraints...............:        0\n",
            "        inequality constraints with only lower bounds:        0\n",
            "   inequality constraints with lower and upper bounds:        0\n",
            "        inequality constraints with only upper bounds:        0\n",
            "\n",
            "iter    objective    inf_pr   inf_du lg(mu)  ||d||  lg(rg) alpha_du alpha_pr  ls\n",
            "   0  0.0000000e+00 6.60e+04 0.00e+00  -1.0 0.00e+00    -  0.00e+00 0.00e+00   0\n",
            "   1  0.0000000e+00 8.69e+03 1.42e+03  -1.0 2.00e+04    -  9.71e-01 4.67e-01H  1\n",
            "   2  0.0000000e+00 3.05e+03 1.56e+03  -1.0 1.60e+04    -  9.79e-01 4.90e-01h  1\n",
            "   3  0.0000000e+00 1.58e+03 1.55e+05  -1.0 1.40e+04    -  9.90e-01 4.99e-01h  1\n",
            "   4  0.0000000e+00 5.49e+02 8.87e+08  -1.0 8.42e+03    -  1.00e+00 9.57e-01h  1\n",
            "   5  0.0000000e+00 4.25e+03 2.87e+10  -1.0 8.02e+02    -  1.00e+00 9.90e-01h  1\n",
            "   6  0.0000000e+00 2.25e+03 1.51e+10  -1.0 8.39e+00    -  1.00e+00 1.00e+00h  1\n",
            "   7  0.0000000e+00 2.27e+01 1.40e+08  -1.0 2.45e-03    -  1.00e+00 1.00e+00f  1\n",
            "   8  0.0000000e+00 2.45e-03 1.23e+04  -1.0 2.38e-05    -  1.00e+00 1.00e+00h  1\n",
            "   9  0.0000000e+00 1.49e-08 2.69e-01  -2.5 9.06e-08    -  1.00e+00 1.00e+00h  1\n",
            "Cannot recompute multipliers for feasibility problem.  Error in eq_mult_calculator\n",
            "\n",
            "Number of Iterations....: 9\n",
            "\n",
            "                                   (scaled)                 (unscaled)\n",
            "Objective...............:   0.0000000000000000e+00    0.0000000000000000e+00\n",
            "Dual infeasibility......:   2.8284418501241482e+05    2.8284418501241482e+05\n",
            "Constraint violation....:   2.9103830456733704e-11    1.4901161193847656e-08\n",
            "Complementarity.........:   0.0000000000000000e+00    0.0000000000000000e+00\n",
            "Overall NLP error.......:   2.9103830456733704e-11    2.8284418501241482e+05\n",
            "\n",
            "\n",
            "Number of objective function evaluations             = 11\n",
            "Number of objective gradient evaluations             = 10\n",
            "Number of equality constraint evaluations            = 11\n",
            "Number of inequality constraint evaluations          = 0\n",
            "Number of equality constraint Jacobian evaluations   = 10\n",
            "Number of inequality constraint Jacobian evaluations = 0\n",
            "Number of Lagrangian Hessian evaluations             = 9\n",
            "Total CPU secs in IPOPT (w/o function evaluations)   =      0.026\n",
            "Total CPU secs in NLP function evaluations           =      0.002\n",
            "\n",
            "EXIT: Optimal Solution Found.\n"
          ]
        }
      ],
      "source": [
        "# Create the solver object\n",
        "from idaes.core.solvers import get_solver\n",
        "\n",
        "solver = get_solver()\n",
        "\n",
        "# Solve the model\n",
        "results = solver.solve(m, tee=True)"
      ]
    },
    {
      "cell_type": "markdown",
      "metadata": {
        "id": "HEw7ZjcPqoCN"
      },
      "source": [
        "## Analyze the results of the square problem\n",
        "\n",
        "\n",
        "What is the total operating cost?"
      ]
    },
    {
      "cell_type": "code",
      "execution_count": 39,
      "metadata": {
        "colab": {
          "base_uri": "https://localhost:8080/"
        },
        "id": "tVJFs22EqoCN",
        "outputId": "e8bcb870-429f-4a18-8f84-ee31fc85e9c1"
      },
      "outputs": [
        {
          "output_type": "stream",
          "name": "stdout",
          "text": [
            "operating cost = $ 419122.3387677988\n"
          ]
        }
      ],
      "source": [
        "print(\"operating cost = $\", value(m.fs.operating_cost))"
      ]
    },
    {
      "cell_type": "markdown",
      "metadata": {
        "id": "KDuSSKvXqoCN"
      },
      "source": [
        "For this operating cost, what is the amount of benzene we are able to produce and what purity we are able to achieve?"
      ]
    },
    {
      "cell_type": "code",
      "execution_count": 40,
      "metadata": {
        "colab": {
          "base_uri": "https://localhost:8080/"
        },
        "id": "8p02HrVYqoCN",
        "outputId": "a7a69cdb-6ad8-45cd-a078-9793d07d5694"
      },
      "outputs": [
        {
          "output_type": "stream",
          "name": "stdout",
          "text": [
            "\n",
            "====================================================================================\n",
            "Unit : fs.F102                                                             Time: 0.0\n",
            "------------------------------------------------------------------------------------\n",
            "    Unit Performance\n",
            "\n",
            "    Variables: \n",
            "\n",
            "    Key             : Value       : Units  : Fixed : Bounds\n",
            "          Heat Duty :      7352.5 :   watt : False : (None, None)\n",
            "    Pressure Change : -2.0000e+05 : pascal :  True : (None, None)\n",
            "\n",
            "------------------------------------------------------------------------------------\n",
            "    Stream Table\n",
            "                                                Units         Inlet    Vapor Outlet  Liquid Outlet\n",
            "    flow_mol_phase_comp ('Liq', 'benzene')   mole / second    0.20460   1.0000e-08      0.062620  \n",
            "    flow_mol_phase_comp ('Liq', 'toluene')   mole / second   0.062520   1.0000e-08      0.032257  \n",
            "    flow_mol_phase_comp ('Liq', 'methane')   mole / second 2.6712e-07   1.0000e-08    9.4877e-08  \n",
            "    flow_mol_phase_comp ('Liq', 'hydrogen')  mole / second 2.6712e-07   1.0000e-08    9.4877e-08  \n",
            "    flow_mol_phase_comp ('Vap', 'benzene')   mole / second 1.0000e-08      0.14198    1.0000e-08  \n",
            "    flow_mol_phase_comp ('Vap', 'toluene')   mole / second 1.0000e-08     0.030264    1.0000e-08  \n",
            "    flow_mol_phase_comp ('Vap', 'methane')   mole / second 1.0000e-08   1.8224e-07    1.0000e-08  \n",
            "    flow_mol_phase_comp ('Vap', 'hydrogen')  mole / second 1.0000e-08   1.8224e-07    1.0000e-08  \n",
            "    temperature                                     kelvin     325.00       375.00        375.00  \n",
            "    pressure                                        pascal 3.5000e+05   1.5000e+05    1.5000e+05  \n",
            "====================================================================================\n",
            "\n",
            "benzene purity =  0.8242962943918927\n"
          ]
        }
      ],
      "source": [
        "m.fs.F102.report()\n",
        "\n",
        "print()\n",
        "print(\"benzene purity = \", value(m.fs.purity))"
      ]
    },
    {
      "cell_type": "markdown",
      "metadata": {
        "id": "Er43b2ptqoCN"
      },
      "source": [
        "Next, let's look at how much benzene we are losing with the light gases out of F101. IDAES has tools for creating stream tables based on the `Arcs` and/or `Ports` in a flowsheet. Let us create and print a simple stream table showing the stream leaving the reactor and the vapor stream from F101.\n",
        "\n",
        "<div class=\"alert alert-block alert-info\">\n",
        "<b>Inline Exercise:</b>\n",
        "How much benzene are we losing in the F101 vapor outlet stream?\n",
        "</div>\n"
      ]
    },
    {
      "cell_type": "code",
      "execution_count": 41,
      "metadata": {
        "colab": {
          "base_uri": "https://localhost:8080/"
        },
        "id": "DhEK5epGqoCN",
        "outputId": "ac484632-2eae-4524-d65b-9f9eb2674242"
      },
      "outputs": [
        {
          "output_type": "stream",
          "name": "stdout",
          "text": [
            "                                            Units        Reactor   Light Gases\n",
            "flow_mol_phase_comp ('Liq', 'benzene')   mole / second 1.2993e-07  1.0000e-08 \n",
            "flow_mol_phase_comp ('Liq', 'toluene')   mole / second 8.4147e-07  1.0000e-08 \n",
            "flow_mol_phase_comp ('Liq', 'methane')   mole / second 1.0000e-12  1.0000e-08 \n",
            "flow_mol_phase_comp ('Liq', 'hydrogen')  mole / second 1.0000e-12  1.0000e-08 \n",
            "flow_mol_phase_comp ('Vap', 'benzene')   mole / second    0.35374     0.14915 \n",
            "flow_mol_phase_comp ('Vap', 'toluene')   mole / second   0.078129    0.015610 \n",
            "flow_mol_phase_comp ('Vap', 'methane')   mole / second     1.2721      1.2721 \n",
            "flow_mol_phase_comp ('Vap', 'hydrogen')  mole / second    0.32821     0.32821 \n",
            "temperature                                     kelvin     771.85      325.00 \n",
            "pressure                                        pascal 3.5000e+05  3.5000e+05 \n"
          ]
        }
      ],
      "source": [
        "from idaes.core.util.tables import (\n",
        "    create_stream_table_dataframe,\n",
        "    stream_table_dataframe_to_string,\n",
        ")\n",
        "\n",
        "st = create_stream_table_dataframe({\"Reactor\": m.fs.s05, \"Light Gases\": m.fs.s06})\n",
        "print(stream_table_dataframe_to_string(st))"
      ]
    },
    {
      "cell_type": "markdown",
      "metadata": {
        "id": "V6FfEBvRqoCN"
      },
      "source": [
        "<div class=\"alert alert-block alert-info\">\n",
        "<b>Inline Exercise:</b>\n",
        "You can query additional variables here if you like.\n",
        "\n",
        "Use Shift+Enter to run the cell once you have typed in your code.\n",
        "</div>\n"
      ]
    },
    {
      "cell_type": "markdown",
      "metadata": {
        "id": "eWQj_dwjqoCO"
      },
      "source": [
        "## Optimization\n",
        "\n",
        "\n",
        "We saw from the results above that the total operating cost for the base case was $419,122 per year. We are producing 0.142 mol/s of benzene at a purity of 82\\%. However, we are losing around 42\\% of benzene in F101 vapor outlet stream.\n",
        "\n",
        "Let us try to minimize this cost such that:\n",
        "- we are producing at least 0.15 mol/s of benzene in F102 vapor outlet i.e. our product stream\n",
        "- purity of benzene i.e. the mole fraction of benzene in F102 vapor outlet is at least 80%\n",
        "- restricting the benzene loss in F101 vapor outlet to less than 20%\n",
        "\n",
        "For this problem, our decision variables are as follows:\n",
        "- H101 outlet temperature\n",
        "- R101 cooling duty provided\n",
        "- F101 outlet temperature\n",
        "- F102 outlet temperature\n",
        "- F102 deltaP in the flash tank\n"
      ]
    },
    {
      "cell_type": "markdown",
      "metadata": {
        "id": "DhF1H-UwqoCO"
      },
      "source": [
        "Let us declare our objective function for this problem."
      ]
    },
    {
      "cell_type": "code",
      "execution_count": 42,
      "metadata": {
        "id": "4y_9ygwYqoCO"
      },
      "outputs": [],
      "source": [
        "m.fs.objective = Objective(expr=m.fs.operating_cost)"
      ]
    },
    {
      "cell_type": "markdown",
      "metadata": {
        "id": "XOH23wMLqoCO"
      },
      "source": [
        "Now, we need to unfix the decision variables as we had solved a square problem (degrees of freedom = 0) until now."
      ]
    },
    {
      "cell_type": "code",
      "execution_count": 43,
      "metadata": {
        "id": "ihJ-grt3qoCO"
      },
      "outputs": [],
      "source": [
        "m.fs.H101.outlet.temperature.unfix()\n",
        "m.fs.R101.heat_duty.unfix()\n",
        "m.fs.F101.vap_outlet.temperature.unfix()\n",
        "m.fs.F102.vap_outlet.temperature.unfix()"
      ]
    },
    {
      "cell_type": "markdown",
      "metadata": {
        "id": "bIs7ocdKqoCO"
      },
      "source": [
        "<div class=\"alert alert-block alert-info\">\n",
        "<b>Inline Exercise:</b>\n",
        "Let us now unfix the remaining variable which is F102 pressure drop (F102.deltaP)\n",
        "\n",
        "Use Shift+Enter to run the cell once you have typed in your code.\n",
        "</div>\n",
        "\n"
      ]
    },
    {
      "cell_type": "code",
      "execution_count": null,
      "metadata": {
        "tags": [
          "exercise"
        ],
        "id": "XDyQ3zcsqoCO"
      },
      "outputs": [],
      "source": [
        "# Todo: Unfix deltaP for F102"
      ]
    },
    {
      "cell_type": "code",
      "execution_count": 44,
      "metadata": {
        "tags": [
          "solution"
        ],
        "id": "3LU-4xb9qoCO"
      },
      "outputs": [],
      "source": [
        "# Todo: Unfix deltaP for F102\n",
        "m.fs.F102.deltaP.unfix()"
      ]
    },
    {
      "cell_type": "markdown",
      "metadata": {
        "id": "UfIJlVZeqoCO"
      },
      "source": [
        "Next, we need to set bounds on these decision variables to values shown below:\n",
        "\n",
        " - H101 outlet temperature [500, 600] K\n",
        " - R101 outlet temperature [600, 800] K\n",
        " - F101 outlet temperature [298, 450] K\n",
        " - F102 outlet temperature [298, 450] K\n",
        " - F102 outlet pressure [105000, 110000] Pa\n",
        "\n",
        "Let us first set the variable bound for the H101 outlet temperature as shown below:"
      ]
    },
    {
      "cell_type": "code",
      "execution_count": 45,
      "metadata": {
        "id": "CBd30OHuqoCO"
      },
      "outputs": [],
      "source": [
        "m.fs.H101.outlet.temperature[0].setlb(500)\n",
        "m.fs.H101.outlet.temperature[0].setub(600)"
      ]
    },
    {
      "cell_type": "markdown",
      "metadata": {
        "id": "5rlj87O4qoCO"
      },
      "source": [
        "<div class=\"alert alert-block alert-info\">\n",
        "<b>Inline Exercise:</b>\n",
        "Now, set the variable bound for the R101 outlet temperature.\n",
        "\n",
        "Use Shift+Enter to run the cell once you have typed in your code.\n",
        "</div>"
      ]
    },
    {
      "cell_type": "code",
      "execution_count": null,
      "metadata": {
        "tags": [
          "exercise"
        ],
        "id": "OEaBio8pqoCO"
      },
      "outputs": [],
      "source": [
        "# Todo: Set the bounds for reactor outlet temperature"
      ]
    },
    {
      "cell_type": "code",
      "execution_count": 46,
      "metadata": {
        "tags": [
          "solution"
        ],
        "id": "Ap9_sXBCqoCO"
      },
      "outputs": [],
      "source": [
        "# Todo: Set the bounds for reactor outlet temperature\n",
        "m.fs.R101.outlet.temperature[0].setlb(600)\n",
        "m.fs.R101.outlet.temperature[0].setub(800)"
      ]
    },
    {
      "cell_type": "markdown",
      "metadata": {
        "id": "J6Q11o1EqoCO"
      },
      "source": [
        "Let us fix the bounds for the rest of the decision variables."
      ]
    },
    {
      "cell_type": "code",
      "execution_count": 47,
      "metadata": {
        "id": "QM6_xNHCqoCO"
      },
      "outputs": [],
      "source": [
        "m.fs.F101.vap_outlet.temperature[0].setlb(298.0)\n",
        "m.fs.F101.vap_outlet.temperature[0].setub(450.0)\n",
        "m.fs.F102.vap_outlet.temperature[0].setlb(298.0)\n",
        "m.fs.F102.vap_outlet.temperature[0].setub(450.0)\n",
        "m.fs.F102.vap_outlet.pressure[0].setlb(105000)\n",
        "m.fs.F102.vap_outlet.pressure[0].setub(110000)"
      ]
    },
    {
      "cell_type": "markdown",
      "metadata": {
        "id": "szFnYKNnqoCO"
      },
      "source": [
        "Now, the only things left to define are our constraints on overhead loss in F101, product flow rate and purity in F102. Let us first look at defining a constraint for the overhead loss in F101 where we are restricting the benzene leaving the vapor stream to less than 20 \\% of the benzene available in the reactor outlet."
      ]
    },
    {
      "cell_type": "code",
      "execution_count": 48,
      "metadata": {
        "id": "y3ndG3U6qoCO"
      },
      "outputs": [],
      "source": [
        "m.fs.overhead_loss = Constraint(\n",
        "    expr=m.fs.F101.vap_outlet.flow_mol_phase_comp[0, \"Vap\", \"benzene\"]\n",
        "    <= 0.20 * m.fs.R101.outlet.flow_mol_phase_comp[0, \"Vap\", \"benzene\"]\n",
        ")"
      ]
    },
    {
      "cell_type": "markdown",
      "metadata": {
        "id": "kP_ct0OdqoCO"
      },
      "source": [
        "<div class=\"alert alert-block alert-info\">\n",
        "<b>Inline Exercise:</b>\n",
        "Now, add the constraint such that we are producing at least 0.15 mol/s of benzene in the product stream which is the vapor outlet of F102. Let us name this constraint as m.fs.product_flow.\n",
        "\n",
        "Use Shift+Enter to run the cell once you have typed in your code.\n",
        "</div>"
      ]
    },
    {
      "cell_type": "code",
      "execution_count": null,
      "metadata": {
        "tags": [
          "exercise"
        ],
        "id": "WoBucS9QqoCO"
      },
      "outputs": [],
      "source": [
        "# Todo: Add minimum product flow constraint"
      ]
    },
    {
      "cell_type": "code",
      "execution_count": 49,
      "metadata": {
        "tags": [
          "solution"
        ],
        "id": "4k1Hf4bQqoCO"
      },
      "outputs": [],
      "source": [
        "# Todo: Add minimum product flow constraint\n",
        "m.fs.product_flow = Constraint(\n",
        "    expr=m.fs.F102.vap_outlet.flow_mol_phase_comp[0, \"Vap\", \"benzene\"] >= 0.15\n",
        ")"
      ]
    },
    {
      "cell_type": "markdown",
      "metadata": {
        "id": "FyiSRJ1OqoCP"
      },
      "source": [
        "Let us add the final constraint on product purity or the mole fraction of benzene in the product stream such that it is at least greater than 80%."
      ]
    },
    {
      "cell_type": "code",
      "execution_count": 50,
      "metadata": {
        "id": "9tWpA5AbqoCP"
      },
      "outputs": [],
      "source": [
        "m.fs.product_purity = Constraint(expr=m.fs.purity >= 0.80)"
      ]
    },
    {
      "cell_type": "markdown",
      "metadata": {
        "id": "4KjKX-t5qoCP"
      },
      "source": [
        "\n",
        "We have now defined the optimization problem and we are now ready to solve this problem.\n",
        "\n",
        "\n"
      ]
    },
    {
      "cell_type": "code",
      "execution_count": 51,
      "metadata": {
        "colab": {
          "base_uri": "https://localhost:8080/"
        },
        "id": "j0LdTCC3qoCP",
        "outputId": "a570090a-342e-4a0e-cf47-2ce8caa4b6a2"
      },
      "outputs": [
        {
          "output_type": "stream",
          "name": "stdout",
          "text": [
            "Ipopt 3.13.2: nlp_scaling_method=gradient-based\n",
            "tol=1e-06\n",
            "max_iter=200\n",
            "\n",
            "\n",
            "******************************************************************************\n",
            "This program contains Ipopt, a library for large-scale nonlinear optimization.\n",
            " Ipopt is released as open source code under the Eclipse Public License (EPL).\n",
            "         For more information visit http://projects.coin-or.org/Ipopt\n",
            "\n",
            "This version of Ipopt was compiled from source code available at\n",
            "    https://github.com/IDAES/Ipopt as part of the Institute for the Design of\n",
            "    Advanced Energy Systems Process Systems Engineering Framework (IDAES PSE\n",
            "    Framework) Copyright (c) 2018-2019. See https://github.com/IDAES/idaes-pse.\n",
            "\n",
            "This version of Ipopt was compiled using HSL, a collection of Fortran codes\n",
            "    for large-scale scientific computation.  All technical papers, sales and\n",
            "    publicity material resulting from use of the HSL codes within IPOPT must\n",
            "    contain the following acknowledgement:\n",
            "        HSL, a collection of Fortran codes for large-scale scientific\n",
            "        computation. See http://www.hsl.rl.ac.uk.\n",
            "******************************************************************************\n",
            "\n",
            "This is Ipopt version 3.13.2, running with linear solver ma27.\n",
            "\n",
            "Number of nonzeros in equality constraint Jacobian...:     1057\n",
            "Number of nonzeros in inequality constraint Jacobian.:        5\n",
            "Number of nonzeros in Lagrangian Hessian.............:      937\n",
            "\n",
            "Total number of variables............................:      345\n",
            "                     variables with only lower bounds:        0\n",
            "                variables with lower and upper bounds:      149\n",
            "                     variables with only upper bounds:        0\n",
            "Total number of equality constraints.................:      340\n",
            "Total number of inequality constraints...............:        3\n",
            "        inequality constraints with only lower bounds:        2\n",
            "   inequality constraints with lower and upper bounds:        0\n",
            "        inequality constraints with only upper bounds:        1\n",
            "\n",
            "iter    objective    inf_pr   inf_du lg(mu)  ||d||  lg(rg) alpha_du alpha_pr  ls\n",
            "   0  4.1912234e+05 2.99e+05 6.94e+00  -1.0 0.00e+00    -  0.00e+00 0.00e+00   0\n",
            "   1  4.1628385e+05 2.99e+05 6.94e+00  -1.0 4.82e+09    -  1.80e-05 5.83e-06f  1\n",
            "   2  4.1616723e+05 2.99e+05 1.59e+02  -1.0 1.46e+09    -  5.83e-04 1.47e-05f  1\n",
            "   3  4.0789953e+05 2.94e+05 4.83e+02  -1.0 1.36e+09    -  2.64e-04 9.30e-04f  1\n",
            "   4  2.9668590e+05 2.83e+06 6.97e+02  -1.0 4.80e+08    -  7.26e-05 1.50e-03f  1\n",
            "   5  2.9555461e+05 2.83e+06 4.95e+04  -1.0 1.90e+08    -  1.88e-01 1.04e-03f  1\n",
            "   6  2.9451022e+05 2.73e+06 4.60e+05  -1.0 4.43e+07    -  1.87e-01 3.43e-02f  1\n",
            "   7  2.9628497e+05 2.13e+06 4.43e+05  -1.0 1.48e+07    -  7.40e-02 2.18e-01h  1\n",
            "   8  2.9632658e+05 2.13e+06 4.41e+05  -1.0 5.91e+06    -  6.37e-01 3.36e-03h  1\n",
            "   9  2.9642679e+05 2.11e+06 4.39e+05  -1.0 6.54e+06    -  7.26e-01 7.12e-03h  1\n",
            "iter    objective    inf_pr   inf_du lg(mu)  ||d||  lg(rg) alpha_du alpha_pr  ls\n",
            "  10  2.9954735e+05 1.64e+06 4.13e+05  -1.0 6.57e+06    -  3.57e-02 2.24e-01h  1\n",
            "  11  3.0435085e+05 9.50e+05 6.95e+05  -1.0 5.56e+06    -  9.46e-01 4.20e-01h  1\n",
            "  12  3.0895827e+05 3.69e+05 1.22e+07  -1.0 4.03e+06    -  9.90e-01 6.11e-01h  1\n",
            "  13  3.1246277e+05 1.42e+06 1.80e+10  -1.0 2.25e+06    -  9.95e-01 9.65e-01h  1\n",
            "  14  3.1266092e+05 5.66e+05 7.10e+10  -1.0 2.77e+05    -  4.14e-01 6.11e-01h  1\n",
            "  15  3.1266072e+05 5.65e+05 7.08e+10  -1.0 1.18e+06    -  1.09e-02 2.60e-04h  1\n",
            "  16  3.1266230e+05 5.58e+05 7.01e+10  -1.0 1.08e+05    -  1.00e+00 1.26e-02h  1\n",
            "  17  3.1271669e+05 3.14e+05 7.23e+10  -1.0 1.07e+05    -  4.05e-01 4.39e-01h  1\n",
            "  18  3.1278583e+05 3.89e+03 1.58e+10  -1.0 6.01e+04    -  7.76e-03 9.91e-01h  1\n",
            "  19  3.1278664e+05 1.57e+03 6.81e+10  -1.0 5.59e+02    -  9.87e-01 1.00e+00h  1\n",
            "iter    objective    inf_pr   inf_du lg(mu)  ||d||  lg(rg) alpha_du alpha_pr  ls\n",
            "  20  3.1278678e+05 2.39e+01 1.24e+09  -1.0 1.96e+02    -  1.00e+00 1.00e+00f  1\n",
            "  21  3.1278674e+05 1.19e+01 6.32e+08  -1.0 1.30e+02    -  1.00e+00 5.00e-01f  2\n",
            "  22  3.1278674e+05 1.21e-02 9.82e+04  -1.0 2.70e+00    -  1.00e+00 1.00e+00f  1\n",
            "  23  3.1278642e+05 2.23e-05 2.00e+05  -1.7 1.62e+02    -  1.00e+00 1.00e+00f  1\n",
            "  24  3.1278642e+05 7.45e-09 2.34e-03  -1.7 6.37e-01    -  1.00e+00 1.00e+00h  1\n",
            "  25  3.1278634e+05 1.39e-06 1.26e+04  -7.0 4.04e+01    -  1.00e+00 1.00e+00f  1\n",
            "  26  3.1278634e+05 1.49e-08 2.53e-05  -7.0 6.55e-03    -  1.00e+00 1.00e+00h  1\n",
            "\n",
            "Number of Iterations....: 26\n",
            "\n",
            "                                   (scaled)                 (unscaled)\n",
            "Objective...............:   3.1278633834102674e+05    3.1278633834102674e+05\n",
            "Dual infeasibility......:   2.5252682424363636e-05    2.5252682424363636e-05\n",
            "Constraint violation....:   2.9103830456733704e-11    1.4901161193847656e-08\n",
            "Complementarity.........:   9.0926527280252943e-08    9.0926527280252943e-08\n",
            "Overall NLP error.......:   6.6903080882737632e-09    2.5252682424363636e-05\n",
            "\n",
            "\n",
            "Number of objective function evaluations             = 28\n",
            "Number of objective gradient evaluations             = 27\n",
            "Number of equality constraint evaluations            = 28\n",
            "Number of inequality constraint evaluations          = 28\n",
            "Number of equality constraint Jacobian evaluations   = 27\n",
            "Number of inequality constraint Jacobian evaluations = 27\n",
            "Number of Lagrangian Hessian evaluations             = 26\n",
            "Total CPU secs in IPOPT (w/o function evaluations)   =      0.071\n",
            "Total CPU secs in NLP function evaluations           =      0.007\n",
            "\n",
            "EXIT: Optimal Solution Found.\n"
          ]
        }
      ],
      "source": [
        "results = solver.solve(m, tee=True)"
      ]
    },
    {
      "cell_type": "markdown",
      "metadata": {
        "id": "iT6NhQbNqoCP"
      },
      "source": [
        "## Optimization Results\n",
        "\n",
        "Display the results and product specifications"
      ]
    },
    {
      "cell_type": "code",
      "execution_count": 52,
      "metadata": {
        "colab": {
          "base_uri": "https://localhost:8080/"
        },
        "id": "OyzIxUxYqoCP",
        "outputId": "ee88836c-0fdd-45b2-e8d4-0530b7e99d1d"
      },
      "outputs": [
        {
          "output_type": "stream",
          "name": "stdout",
          "text": [
            "operating cost = $ 312786.3383410267\n",
            "\n",
            "Product flow rate and purity in F102\n",
            "\n",
            "====================================================================================\n",
            "Unit : fs.F102                                                             Time: 0.0\n",
            "------------------------------------------------------------------------------------\n",
            "    Unit Performance\n",
            "\n",
            "    Variables: \n",
            "\n",
            "    Key             : Value       : Units  : Fixed : Bounds\n",
            "          Heat Duty :      8377.0 :   watt : False : (None, None)\n",
            "    Pressure Change : -2.4500e+05 : pascal : False : (None, None)\n",
            "\n",
            "------------------------------------------------------------------------------------\n",
            "    Stream Table\n",
            "                                                Units         Inlet    Vapor Outlet  Liquid Outlet\n",
            "    flow_mol_phase_comp ('Liq', 'benzene')   mole / second    0.21743   1.0000e-08      0.067425  \n",
            "    flow_mol_phase_comp ('Liq', 'toluene')   mole / second   0.070695   1.0000e-08      0.037507  \n",
            "    flow_mol_phase_comp ('Liq', 'methane')   mole / second 2.8812e-07   1.0000e-08    1.0493e-07  \n",
            "    flow_mol_phase_comp ('Liq', 'hydrogen')  mole / second 2.8812e-07   1.0000e-08    1.0493e-07  \n",
            "    flow_mol_phase_comp ('Vap', 'benzene')   mole / second 1.0000e-08      0.15000    1.0000e-08  \n",
            "    flow_mol_phase_comp ('Vap', 'toluene')   mole / second 1.0000e-08     0.033189    1.0000e-08  \n",
            "    flow_mol_phase_comp ('Vap', 'methane')   mole / second 1.0000e-08   1.9319e-07    1.0000e-08  \n",
            "    flow_mol_phase_comp ('Vap', 'hydrogen')  mole / second 1.0000e-08   1.9319e-07    1.0000e-08  \n",
            "    temperature                                     kelvin     301.88       362.93        362.93  \n",
            "    pressure                                        pascal 3.5000e+05   1.0500e+05    1.0500e+05  \n",
            "====================================================================================\n",
            "\n",
            "benzene purity =  0.818827657811227\n",
            "\n",
            "Overhead loss in F101\n",
            "\n",
            "====================================================================================\n",
            "Unit : fs.F101                                                             Time: 0.0\n",
            "------------------------------------------------------------------------------------\n",
            "    Unit Performance\n",
            "\n",
            "    Variables: \n",
            "\n",
            "    Key             : Value   : Units  : Fixed : Bounds\n",
            "          Heat Duty : -56353. :   watt : False : (None, None)\n",
            "    Pressure Change :  0.0000 : pascal :  True : (None, None)\n",
            "\n",
            "------------------------------------------------------------------------------------\n",
            "    Stream Table\n",
            "                                                Units         Inlet    Vapor Outlet  Liquid Outlet\n",
            "    flow_mol_phase_comp ('Liq', 'benzene')   mole / second 4.3534e-08   1.0000e-08       0.21743  \n",
            "    flow_mol_phase_comp ('Liq', 'toluene')   mole / second 7.5866e-07   1.0000e-08      0.070695  \n",
            "    flow_mol_phase_comp ('Liq', 'methane')   mole / second 1.0000e-12   1.0000e-08    2.8812e-07  \n",
            "    flow_mol_phase_comp ('Liq', 'hydrogen')  mole / second 1.0000e-12   1.0000e-08    2.8812e-07  \n",
            "    flow_mol_phase_comp ('Vap', 'benzene')   mole / second    0.27178     0.054356    1.0000e-08  \n",
            "    flow_mol_phase_comp ('Vap', 'toluene')   mole / second   0.076085    0.0053908    1.0000e-08  \n",
            "    flow_mol_phase_comp ('Vap', 'methane')   mole / second     1.2414       1.2414    1.0000e-08  \n",
            "    flow_mol_phase_comp ('Vap', 'hydrogen')  mole / second    0.35887      0.35887    1.0000e-08  \n",
            "    temperature                                     kelvin     696.11       301.88        301.88  \n",
            "    pressure                                        pascal 3.5000e+05   3.5000e+05    3.5000e+05  \n",
            "====================================================================================\n"
          ]
        }
      ],
      "source": [
        "print(\"operating cost = $\", value(m.fs.operating_cost))\n",
        "\n",
        "print()\n",
        "print(\"Product flow rate and purity in F102\")\n",
        "\n",
        "m.fs.F102.report()\n",
        "\n",
        "print()\n",
        "print(\"benzene purity = \", value(m.fs.purity))\n",
        "\n",
        "print()\n",
        "print(\"Overhead loss in F101\")\n",
        "m.fs.F101.report()"
      ]
    },
    {
      "cell_type": "markdown",
      "metadata": {
        "id": "UF3Ygsu7qoCP"
      },
      "source": [
        "Display optimal values for the decision variables"
      ]
    },
    {
      "cell_type": "code",
      "execution_count": 53,
      "metadata": {
        "colab": {
          "base_uri": "https://localhost:8080/"
        },
        "id": "mtB579MTqoCP",
        "outputId": "c66f39ee-666e-4ad6-c338-ca3a26c59548"
      },
      "outputs": [
        {
          "output_type": "stream",
          "name": "stdout",
          "text": [
            "Optimal Values\n",
            "\n",
            "H101 outlet temperature =  500.0 K\n",
            "\n",
            "R101 outlet temperature =  696.1117584980856 K\n",
            "\n",
            "F101 outlet temperature =  301.8784760569282 K\n",
            "\n",
            "F102 outlet temperature =  362.93476830548985 K\n",
            "F102 outlet pressure =  105000.0 Pa\n"
          ]
        }
      ],
      "source": [
        "print(\"Optimal Values\")\n",
        "print()\n",
        "\n",
        "print(\"H101 outlet temperature = \", value(m.fs.H101.outlet.temperature[0]), \"K\")\n",
        "\n",
        "print()\n",
        "print(\"R101 outlet temperature = \", value(m.fs.R101.outlet.temperature[0]), \"K\")\n",
        "\n",
        "print()\n",
        "print(\"F101 outlet temperature = \", value(m.fs.F101.vap_outlet.temperature[0]), \"K\")\n",
        "\n",
        "print()\n",
        "print(\"F102 outlet temperature = \", value(m.fs.F102.vap_outlet.temperature[0]), \"K\")\n",
        "print(\"F102 outlet pressure = \", value(m.fs.F102.vap_outlet.pressure[0]), \"Pa\")"
      ]
    },
    {
      "cell_type": "code",
      "execution_count": null,
      "metadata": {
        "id": "Y1ytFD6jqoCP"
      },
      "outputs": [],
      "source": []
    }
  ],
  "metadata": {
    "celltoolbar": "Tags",
    "kernelspec": {
      "display_name": "Python 3 (ipykernel)",
      "language": "python",
      "name": "python3"
    },
    "language_info": {
      "codemirror_mode": {
        "name": "ipython",
        "version": 3
      },
      "file_extension": ".py",
      "mimetype": "text/x-python",
      "name": "python",
      "nbconvert_exporter": "python",
      "pygments_lexer": "ipython3",
      "version": "3.8.12"
    },
    "colab": {
      "provenance": [],
      "include_colab_link": true
    }
  },
  "nbformat": 4,
  "nbformat_minor": 0
}